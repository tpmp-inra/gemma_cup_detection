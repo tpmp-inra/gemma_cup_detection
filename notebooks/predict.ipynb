{
 "cells": [
  {
   "cell_type": "markdown",
   "id": "interstate-grove",
   "metadata": {},
   "source": [
    "# Gemma cup prediction"
   ]
  },
  {
   "cell_type": "markdown",
   "id": "august-console",
   "metadata": {},
   "source": [
    "## Imports"
   ]
  },
  {
   "cell_type": "code",
   "execution_count": 1,
   "id": "broad-russell",
   "metadata": {},
   "outputs": [],
   "source": [
    "import os\n",
    "\n",
    "import pandas as pd\n",
    "import numpy as np\n",
    "import cv2\n",
    "\n",
    "%matplotlib inline\n",
    "import matplotlib.pyplot as plt\n",
    "import matplotlib.patches as patches\n",
    "\n",
    "from tqdm.notebook import tqdm\n",
    "\n",
    "import ipywidgets as widgets\n",
    "from IPython.display import Image as IpImage\n",
    "from IPython.display import display\n",
    "from ipywidgets import Button, HBox, VBox\n",
    "\n",
    "import torch\n",
    "from torchvision import transforms\n",
    "from torch.autograd import Variable\n",
    "from torch.utils.data import Dataset, DataLoader\n",
    "\n",
    "from skimage import transform\n",
    "\n",
    "from PIL import Image as PilImage"
   ]
  },
  {
   "cell_type": "markdown",
   "id": "earned-crossing",
   "metadata": {},
   "source": [
    "## Define constants"
   ]
  },
  {
   "cell_type": "code",
   "execution_count": 2,
   "id": "seven-litigation",
   "metadata": {},
   "outputs": [],
   "source": [
    "data_path = os.path.join(\"..\", \"data_in\")\n",
    "images_path =os.path.join(data_path, \"images\")"
   ]
  },
  {
   "cell_type": "markdown",
   "id": "cutting-relationship",
   "metadata": {},
   "source": [
    "## Load dataframe"
   ]
  },
  {
   "cell_type": "code",
   "execution_count": 3,
   "id": "entire-charity",
   "metadata": {},
   "outputs": [
    {
     "data": {
      "text/html": [
       "<div>\n",
       "<style scoped>\n",
       "    .dataframe tbody tr th:only-of-type {\n",
       "        vertical-align: middle;\n",
       "    }\n",
       "\n",
       "    .dataframe tbody tr th {\n",
       "        vertical-align: top;\n",
       "    }\n",
       "\n",
       "    .dataframe thead th {\n",
       "        text-align: right;\n",
       "    }\n",
       "</style>\n",
       "<table border=\"1\" class=\"dataframe\">\n",
       "  <thead>\n",
       "    <tr style=\"text-align: right;\">\n",
       "      <th></th>\n",
       "      <th>experiment</th>\n",
       "      <th>plant</th>\n",
       "      <th>date_time</th>\n",
       "      <th>camera</th>\n",
       "      <th>view_option</th>\n",
       "      <th>hash</th>\n",
       "      <th>date</th>\n",
       "      <th>time</th>\n",
       "      <th>filename</th>\n",
       "    </tr>\n",
       "  </thead>\n",
       "  <tbody>\n",
       "    <tr>\n",
       "      <th>1772</th>\n",
       "      <td>10ac_mpo1_1904</td>\n",
       "      <td>10ac309_ic_mock_xx_309</td>\n",
       "      <td>2019-05-12 10:10:09</td>\n",
       "      <td>msp</td>\n",
       "      <td>sw755</td>\n",
       "      <td>b-1HoJ-Hqz5STrwrZHGBYdjAE3Q.jpg</td>\n",
       "      <td>2019-05-12</td>\n",
       "      <td>10:10:09</td>\n",
       "      <td>b-1HoJ-Hqz5STrwrZHGBYdjAE3Q.jpg</td>\n",
       "    </tr>\n",
       "    <tr>\n",
       "      <th>3542</th>\n",
       "      <td>10ac_mpo1_1904</td>\n",
       "      <td>10ac79_nc_mock_xx_79</td>\n",
       "      <td>2019-05-12 05:46:06</td>\n",
       "      <td>msp</td>\n",
       "      <td>sw755</td>\n",
       "      <td>b-38OOnRNVd8OdKdmNYZXXy83E.jpg</td>\n",
       "      <td>2019-05-12</td>\n",
       "      <td>05:46:06</td>\n",
       "      <td>b-38OOnRNVd8OdKdmNYZXXy83E.jpg</td>\n",
       "    </tr>\n",
       "    <tr>\n",
       "      <th>902</th>\n",
       "      <td>10ac_mpo1_1904</td>\n",
       "      <td>10ac184_hb_mock_xx_184</td>\n",
       "      <td>2019-05-04 07:12:57</td>\n",
       "      <td>msp</td>\n",
       "      <td>sw755</td>\n",
       "      <td>b-3Q-HdqeuB2sRxMIzzUPNjZfLSw.jpg</td>\n",
       "      <td>2019-05-04</td>\n",
       "      <td>07:12:57</td>\n",
       "      <td>b-3Q-HdqeuB2sRxMIzzUPNjZfLSw.jpg</td>\n",
       "    </tr>\n",
       "    <tr>\n",
       "      <th>1847</th>\n",
       "      <td>10ac_mpo1_1904</td>\n",
       "      <td>10ac315_bu_mock_xx_315</td>\n",
       "      <td>2019-05-16 10:14:27</td>\n",
       "      <td>msp</td>\n",
       "      <td>sw755</td>\n",
       "      <td>b-3wnyR8oNsu-V149ZYfCL-dfeDk.jpg</td>\n",
       "      <td>2019-05-16</td>\n",
       "      <td>10:14:27</td>\n",
       "      <td>b-3wnyR8oNsu-V149ZYfCL-dfeDk.jpg</td>\n",
       "    </tr>\n",
       "    <tr>\n",
       "      <th>3625</th>\n",
       "      <td>10ac_mpo1_1904</td>\n",
       "      <td>10ac86_c2_mock_xx_86</td>\n",
       "      <td>2019-05-18 05:47:45</td>\n",
       "      <td>msp</td>\n",
       "      <td>sw755</td>\n",
       "      <td>b-4-5gzYj0rmr9-dvGMkA3-FNkEs.jpg</td>\n",
       "      <td>2019-05-18</td>\n",
       "      <td>05:47:45</td>\n",
       "      <td>b-4-5gzYj0rmr9-dvGMkA3-FNkEs.jpg</td>\n",
       "    </tr>\n",
       "  </tbody>\n",
       "</table>\n",
       "</div>"
      ],
      "text/plain": [
       "          experiment                   plant            date_time camera  \\\n",
       "1772  10ac_mpo1_1904  10ac309_ic_mock_xx_309  2019-05-12 10:10:09    msp   \n",
       "3542  10ac_mpo1_1904    10ac79_nc_mock_xx_79  2019-05-12 05:46:06    msp   \n",
       "902   10ac_mpo1_1904  10ac184_hb_mock_xx_184  2019-05-04 07:12:57    msp   \n",
       "1847  10ac_mpo1_1904  10ac315_bu_mock_xx_315  2019-05-16 10:14:27    msp   \n",
       "3625  10ac_mpo1_1904    10ac86_c2_mock_xx_86  2019-05-18 05:47:45    msp   \n",
       "\n",
       "     view_option                              hash        date      time  \\\n",
       "1772       sw755   b-1HoJ-Hqz5STrwrZHGBYdjAE3Q.jpg  2019-05-12  10:10:09   \n",
       "3542       sw755    b-38OOnRNVd8OdKdmNYZXXy83E.jpg  2019-05-12  05:46:06   \n",
       "902        sw755  b-3Q-HdqeuB2sRxMIzzUPNjZfLSw.jpg  2019-05-04  07:12:57   \n",
       "1847       sw755  b-3wnyR8oNsu-V149ZYfCL-dfeDk.jpg  2019-05-16  10:14:27   \n",
       "3625       sw755  b-4-5gzYj0rmr9-dvGMkA3-FNkEs.jpg  2019-05-18  05:47:45   \n",
       "\n",
       "                              filename  \n",
       "1772   b-1HoJ-Hqz5STrwrZHGBYdjAE3Q.jpg  \n",
       "3542    b-38OOnRNVd8OdKdmNYZXXy83E.jpg  \n",
       "902   b-3Q-HdqeuB2sRxMIzzUPNjZfLSw.jpg  \n",
       "1847  b-3wnyR8oNsu-V149ZYfCL-dfeDk.jpg  \n",
       "3625  b-4-5gzYj0rmr9-dvGMkA3-FNkEs.jpg  "
      ]
     },
     "execution_count": 3,
     "metadata": {},
     "output_type": "execute_result"
    }
   ],
   "source": [
    "df: pd.DataFrame = pd.read_csv(\n",
    "    os.path.join(data_path, \"filename_to_hash_v2.csv\")\n",
    ").assign(\n",
    "    filename=lambda x: x.hash\n",
    ")\n",
    "df.sort_values([\"hash\"]).head()"
   ]
  },
  {
   "cell_type": "code",
   "execution_count": 4,
   "id": "acute-illinois",
   "metadata": {},
   "outputs": [
    {
     "data": {
      "text/plain": [
       "(3769, 9)"
      ]
     },
     "execution_count": 4,
     "metadata": {},
     "output_type": "execute_result"
    }
   ],
   "source": [
    "df.shape"
   ]
  },
  {
   "cell_type": "markdown",
   "id": "surprising-conspiracy",
   "metadata": {},
   "source": [
    "## Test link to images"
   ]
  },
  {
   "cell_type": "code",
   "execution_count": 5,
   "id": "previous-foundation",
   "metadata": {},
   "outputs": [
    {
     "data": {
      "application/vnd.jupyter.widget-view+json": {
       "model_id": "0400d90b6e3d40039c4bd418e13e76fe",
       "version_major": 2,
       "version_minor": 0
      },
      "text/plain": [
       "Dropdown(options=('b-1HoJ-Hqz5STrwrZHGBYdjAE3Q.jpg', 'b-38OOnRNVd8OdKdmNYZXXy83E.jpg', 'b-3Q-HdqeuB2sRxMIzzUPN…"
      ]
     },
     "metadata": {},
     "output_type": "display_data"
    },
    {
     "data": {
      "application/vnd.jupyter.widget-view+json": {
       "model_id": "62bf8f17436f4287b95fc235d5720c1e",
       "version_major": 2,
       "version_minor": 0
      },
      "text/plain": [
       "Output(layout=Layout(border='1px solid black'))"
      ]
     },
     "metadata": {},
     "output_type": "display_data"
    }
   ],
   "source": [
    "dd_sample = widgets.Dropdown(options=sorted(df.hash.to_list()))\n",
    "\n",
    "image_output = widgets.Output(layout={\"border\": \"1px solid black\"})\n",
    "\n",
    "def predict_gemma_cups(change):\n",
    "    image_output.clear_output()    \n",
    "    with image_output:\n",
    "        fig, ax = plt.subplots(1, 1, figsize=(16, 8))\n",
    "        ax.set_axis_off()\n",
    "        ax.imshow(PilImage.open(os.path.join(images_path, change.new)))\n",
    "        plt.show()\n",
    "\n",
    "    \n",
    "dd_sample.observe(predict_gemma_cups, names=\"value\")\n",
    "display(dd_sample, image_output)"
   ]
  },
  {
   "cell_type": "markdown",
   "id": "anticipated-nepal",
   "metadata": {},
   "source": [
    "## Set device"
   ]
  },
  {
   "cell_type": "code",
   "execution_count": 6,
   "id": "specific-truck",
   "metadata": {},
   "outputs": [
    {
     "data": {
      "text/plain": [
       "device(type='cpu')"
      ]
     },
     "execution_count": 6,
     "metadata": {},
     "output_type": "execute_result"
    }
   ],
   "source": [
    "device = torch.device(\"cuda\" if torch.cuda.is_available() else \"cpu\")\n",
    "# device = torch.device(\"cpu\")\n",
    "device"
   ]
  },
  {
   "cell_type": "markdown",
   "id": "crucial-southeast",
   "metadata": {},
   "source": [
    "## Predict"
   ]
  },
  {
   "cell_type": "markdown",
   "id": "egyptian-transaction",
   "metadata": {},
   "source": [
    "### Define image loader"
   ]
  },
  {
   "cell_type": "code",
   "execution_count": 7,
   "id": "incoming-harvey",
   "metadata": {},
   "outputs": [],
   "source": [
    "def image_loader(image_name):\n",
    "    image = cv2.imread(\n",
    "        image_name,\n",
    "        cv2.IMREAD_COLOR,\n",
    "    )\n",
    "    image = cv2.cvtColor(\n",
    "        image, \n",
    "        cv2.COLOR_BGR2RGB\n",
    "    ).astype(np.float32)\n",
    "    image /= 255.0\n",
    "    image = transforms.ToTensor()(image)\n",
    "    return image.to(device)"
   ]
  },
  {
   "cell_type": "markdown",
   "id": "integrated-capacity",
   "metadata": {},
   "source": [
    "### Load model"
   ]
  },
  {
   "cell_type": "code",
   "execution_count": 8,
   "id": "current-defensive",
   "metadata": {},
   "outputs": [],
   "source": [
    "# loaded_model = torch.load(os.path.join(\"..\", \"models\", \"default_model.pth\"))\n",
    "loaded_model = torch.load(os.path.join(\"..\", \"models\", \"20210407_200_model.pth\"))\n",
    "loaded_model.eval();"
   ]
  },
  {
   "cell_type": "markdown",
   "id": "interested-locator",
   "metadata": {},
   "source": [
    "### Prediction cache data frame"
   ]
  },
  {
   "cell_type": "code",
   "execution_count": 9,
   "id": "contained-ecuador",
   "metadata": {},
   "outputs": [],
   "source": [
    "cache_path = path_or_buf=os.path.join(\n",
    "    \"..\", \n",
    "    \"data_out\", \n",
    "    \"predictions_cache.csv\"\n",
    ")"
   ]
  },
  {
   "cell_type": "code",
   "execution_count": 10,
   "id": "handed-criminal",
   "metadata": {},
   "outputs": [],
   "source": [
    "dfp = pd.read_csv(cache_path)"
   ]
  },
  {
   "cell_type": "code",
   "execution_count": 11,
   "id": "classified-camera",
   "metadata": {},
   "outputs": [
    {
     "data": {
      "text/html": [
       "<div>\n",
       "<style scoped>\n",
       "    .dataframe tbody tr th:only-of-type {\n",
       "        vertical-align: middle;\n",
       "    }\n",
       "\n",
       "    .dataframe tbody tr th {\n",
       "        vertical-align: top;\n",
       "    }\n",
       "\n",
       "    .dataframe thead th {\n",
       "        text-align: right;\n",
       "    }\n",
       "</style>\n",
       "<table border=\"1\" class=\"dataframe\">\n",
       "  <thead>\n",
       "    <tr style=\"text-align: right;\">\n",
       "      <th></th>\n",
       "      <th>x1</th>\n",
       "      <th>y1</th>\n",
       "      <th>x2</th>\n",
       "      <th>y2</th>\n",
       "      <th>score</th>\n",
       "    </tr>\n",
       "  </thead>\n",
       "  <tbody>\n",
       "    <tr>\n",
       "      <th>count</th>\n",
       "      <td>3369.000000</td>\n",
       "      <td>3369.000000</td>\n",
       "      <td>3369.000000</td>\n",
       "      <td>3369.000000</td>\n",
       "      <td>3369.000000</td>\n",
       "    </tr>\n",
       "    <tr>\n",
       "      <th>mean</th>\n",
       "      <td>751.560063</td>\n",
       "      <td>764.981823</td>\n",
       "      <td>805.656039</td>\n",
       "      <td>818.602066</td>\n",
       "      <td>0.628070</td>\n",
       "    </tr>\n",
       "    <tr>\n",
       "      <th>std</th>\n",
       "      <td>155.055634</td>\n",
       "      <td>159.958966</td>\n",
       "      <td>154.264105</td>\n",
       "      <td>160.545321</td>\n",
       "      <td>0.393645</td>\n",
       "    </tr>\n",
       "    <tr>\n",
       "      <th>min</th>\n",
       "      <td>43.064606</td>\n",
       "      <td>22.946793</td>\n",
       "      <td>96.588043</td>\n",
       "      <td>111.769791</td>\n",
       "      <td>0.050009</td>\n",
       "    </tr>\n",
       "    <tr>\n",
       "      <th>25%</th>\n",
       "      <td>642.514648</td>\n",
       "      <td>664.517578</td>\n",
       "      <td>698.356018</td>\n",
       "      <td>721.359680</td>\n",
       "      <td>0.159753</td>\n",
       "    </tr>\n",
       "    <tr>\n",
       "      <th>50%</th>\n",
       "      <td>743.159973</td>\n",
       "      <td>766.627869</td>\n",
       "      <td>798.286011</td>\n",
       "      <td>820.228027</td>\n",
       "      <td>0.898524</td>\n",
       "    </tr>\n",
       "    <tr>\n",
       "      <th>75%</th>\n",
       "      <td>857.062134</td>\n",
       "      <td>868.411621</td>\n",
       "      <td>911.559570</td>\n",
       "      <td>920.940063</td>\n",
       "      <td>0.980238</td>\n",
       "    </tr>\n",
       "    <tr>\n",
       "      <th>max</th>\n",
       "      <td>1599.763428</td>\n",
       "      <td>1599.624146</td>\n",
       "      <td>1600.000000</td>\n",
       "      <td>1599.994995</td>\n",
       "      <td>0.994229</td>\n",
       "    </tr>\n",
       "  </tbody>\n",
       "</table>\n",
       "</div>"
      ],
      "text/plain": [
       "                x1           y1           x2           y2        score\n",
       "count  3369.000000  3369.000000  3369.000000  3369.000000  3369.000000\n",
       "mean    751.560063   764.981823   805.656039   818.602066     0.628070\n",
       "std     155.055634   159.958966   154.264105   160.545321     0.393645\n",
       "min      43.064606    22.946793    96.588043   111.769791     0.050009\n",
       "25%     642.514648   664.517578   698.356018   721.359680     0.159753\n",
       "50%     743.159973   766.627869   798.286011   820.228027     0.898524\n",
       "75%     857.062134   868.411621   911.559570   920.940063     0.980238\n",
       "max    1599.763428  1599.624146  1600.000000  1599.994995     0.994229"
      ]
     },
     "execution_count": 11,
     "metadata": {},
     "output_type": "execute_result"
    }
   ],
   "source": [
    "dfp.describe()"
   ]
  },
  {
   "cell_type": "markdown",
   "id": "saved-canvas",
   "metadata": {},
   "source": [
    "### Prediction function"
   ]
  },
  {
   "cell_type": "code",
   "execution_count": 15,
   "id": "needed-proportion",
   "metadata": {},
   "outputs": [],
   "source": [
    "def predict_boxes(hash, threshold, swap_colors: bool = True, show_discarded: bool=False):\n",
    "    global dfp\n",
    "    \n",
    "    tmp = dfp[dfp.hash == hash]\n",
    "    if tmp.shape[0] > 0:\n",
    "        boxes = [[x1, y1, x2, y2] for x1, y1, x2, y2 in zip(tmp.x1, tmp.y1, tmp.x2, tmp.y2)]\n",
    "        scores = [s for s in tmp.score.to_list()]\n",
    "    else:\n",
    "        images = [image_loader(os.path.join(images_path, hash))]\n",
    "        res = loaded_model(images)    \n",
    "        boxes = res[0][\"boxes\"].data.cpu().numpy()\n",
    "        scores = res[0][\"scores\"].data.cpu().numpy()\n",
    "        tmp = pd.DataFrame(\n",
    "            {\n",
    "                \"hash\": [hash for _ in scores], \n",
    "                \"x1\": [b[0] for b in boxes],\n",
    "                \"y1\": [b[1] for b in boxes],\n",
    "                \"x2\": [b[2] for b in boxes], \n",
    "                \"y2\": [b[3] for b in boxes], \n",
    "                \"score\": [s for s in scores]\n",
    "            }\n",
    "        )\n",
    "        dfp = pd.concat([dfp, tmp])\n",
    "        dfp.to_csv(\n",
    "            cache_path,\n",
    "            index=False,\n",
    "        )\n",
    "        \n",
    "    img = cv2.imread(\n",
    "        os.path.join(images_path, hash),\n",
    "        cv2.IMREAD_COLOR,\n",
    "    )\n",
    "    if swap_colors is True:\n",
    "        img = cv2.cvtColor(img, cv2.COLOR_BGR2RGB)\n",
    "    for box, score in zip(boxes, scores):\n",
    "        if score < threshold and show_discarded is False:\n",
    "            continue\n",
    "        elif  score < threshold:\n",
    "            color = (255,0,0)\n",
    "        else:\n",
    "            color = (int((1- score) * 255), 0, int(score * 255)) if swap_colors is True else (int(score * 255), 0, int((1 - score) * 255))\n",
    "        cv2.rectangle(\n",
    "            img,\n",
    "            (int(box[0]), int(box[1])),\n",
    "            (int(box[2]), int(box[3])),\n",
    "            color, \n",
    "            3\n",
    "        )\n",
    "    \n",
    "    return boxes, scores, img, tmp"
   ]
  },
  {
   "cell_type": "markdown",
   "id": "numerical-uncertainty",
   "metadata": {},
   "source": [
    "### Predicion widget"
   ]
  },
  {
   "cell_type": "code",
   "execution_count": 16,
   "id": "expensive-advancement",
   "metadata": {},
   "outputs": [
    {
     "data": {
      "application/vnd.jupyter.widget-view+json": {
       "model_id": "6d8be20f5601409fa2b3a321acab4a5a",
       "version_major": 2,
       "version_minor": 0
      },
      "text/plain": [
       "HBox(children=(Dropdown(options=('b-1HoJ-Hqz5STrwrZHGBYdjAE3Q.jpg', 'b-38OOnRNVd8OdKdmNYZXXy83E.jpg', 'b-3Q-Hd…"
      ]
     },
     "metadata": {},
     "output_type": "display_data"
    },
    {
     "data": {
      "application/vnd.jupyter.widget-view+json": {
       "model_id": "07702fbeb6f24fc68cf33c9683d68d56",
       "version_major": 2,
       "version_minor": 0
      },
      "text/plain": [
       "HBox(children=(Output(layout=Layout(border='1px solid black')), Output(layout=Layout(border='1px solid black')…"
      ]
     },
     "metadata": {},
     "output_type": "display_data"
    }
   ],
   "source": [
    "dd_sample = widgets.Dropdown(options=sorted(df.hash.to_list()))\n",
    "\n",
    "image_output = widgets.Output(layout={\"border\": \"1px solid black\"})\n",
    "rects_output = widgets.Output(layout={\"border\": \"1px solid black\"})\n",
    "score_threshold = widgets.FloatSlider(\n",
    "    value=0.8, \n",
    "    min=0, \n",
    "    max=1.0, \n",
    "    decsiption=\"Score threshold\"\n",
    ")\n",
    "cb_show_discarded = widgets.Checkbox(value=False, description = \"show discarded\")\n",
    "\n",
    "def predict_gemma_cups(hash, threshold,show_discarded):\n",
    "    \n",
    "    \n",
    "    image_output.clear_output()\n",
    "    rects_output.clear_output()\n",
    "    \n",
    "    boxes, scores, img, tmp_df = predict_boxes(\n",
    "        hash=hash, \n",
    "        threshold=threshold,\n",
    "        show_discarded=show_discarded,\n",
    "    )\n",
    "    \n",
    "    with image_output:\n",
    "        fig, ax = plt.subplots(1, 1, figsize=(14, 14))\n",
    "        ax.set_axis_off()\n",
    "        ax.imshow(img)        \n",
    "        plt.show()\n",
    "    \n",
    "    with rects_output:\n",
    "        display(\n",
    "            tmp_df.sort_values(\n",
    "                [\"score\"], \n",
    "                ascending=False\n",
    "            ).reset_index()\n",
    "        )\n",
    "        \n",
    "def on_image_changed(change):\n",
    "    predict_gemma_cups(change.new, score_threshold.value, show_discarded=cb_show_discarded.value)\n",
    "        \n",
    "def on_threshold_changed(change):\n",
    "    predict_gemma_cups(dd_sample.value, change.new, show_discarded=cb_show_discarded.value)\n",
    "        \n",
    "def on_show_discarded_changed(change):\n",
    "    predict_gemma_cups(dd_sample.value, score_threshold.value, show_discarded=change.new,)\n",
    "\n",
    "    \n",
    "dd_sample.observe(on_image_changed, names=\"value\")\n",
    "score_threshold.observe(on_threshold_changed, names=\"value\")\n",
    "cb_show_discarded.observe(on_show_discarded_changed, names=\"value\")\n",
    "\n",
    "display(\n",
    "    HBox([dd_sample, score_threshold, cb_show_discarded]), \n",
    "    HBox([image_output, rects_output])\n",
    ")"
   ]
  },
  {
   "cell_type": "markdown",
   "id": "engaging-apollo",
   "metadata": {},
   "source": [
    "## Build videos"
   ]
  },
  {
   "cell_type": "code",
   "execution_count": null,
   "id": "white-bedroom",
   "metadata": {},
   "outputs": [],
   "source": [
    "plants = widgets.SelectMultiple(\n",
    "    options=sorted(df.plant.unique()),\n",
    "    value=[],\n",
    "    #rows=10,\n",
    "    description='Plants',\n",
    "    disabled=False\n",
    ")\n",
    "threshold = widgets.FloatSlider(\n",
    "    value=0.80, \n",
    "    min=0, \n",
    "    max=1.0,\n",
    "    step=0.05,\n",
    "    description=\"Score threshold\"\n",
    ")\n",
    "build_video = widgets.Button(description=\"Build video\")\n",
    "progress_output = widgets.Output()\n",
    "output = widgets.Output()\n",
    "\n",
    "display(HBox([plants, threshold, build_video]), progress_output, output)\n",
    "\n",
    "def on_button_clicked(b):\n",
    "    progress_output.clear_output()\n",
    "    \n",
    "    with progress_output:\n",
    "        with tqdm(total=len(plants.value)) as gpbar:\n",
    "            for plant in plants.value:    \n",
    "                df_tmp = df[\n",
    "                    df.plant == plant\n",
    "                ].sort_values(\n",
    "                    [\"date_time\"]\n",
    "                ).reset_index()\n",
    "                output.clear_output()\n",
    "\n",
    "                with output:\n",
    "                    frame_rate = 24.0\n",
    "                    frame_duration = 6\n",
    "                    v_height, v_width = 640, 640\n",
    "                    v_output = os.path.join(\n",
    "                        \"..\", \n",
    "                        \"data_out\", \n",
    "                        \"videos\", \n",
    "                        f\"{plant}_{threshold.value:.2f}.mp4\"\n",
    "                    )\n",
    "\n",
    "                    fourcc = cv2.VideoWriter_fourcc(*\"mp4v\")\n",
    "                    out = cv2.VideoWriter(v_output, fourcc, frame_rate, (v_width, v_height))\n",
    "\n",
    "\n",
    "\n",
    "                    with tqdm(total=df_tmp.shape[0]) as pbar:\n",
    "                        for hash in df_tmp.hash.to_list():\n",
    "                            _, _, img, _ = predict_boxes(\n",
    "                                hash=hash, \n",
    "                                threshold=threshold.value, \n",
    "                                swap_colors=False,\n",
    "                            )\n",
    "                            img = cv2.resize(\n",
    "                                img, \n",
    "                                (v_width, v_height), \n",
    "                                interpolation=cv2.INTER_CUBIC\n",
    "                            )                \n",
    "                            for _ in range(0, frame_duration):\n",
    "                                out.write(img)\n",
    "                            pbar.update(1)\n",
    "                gpbar.update(1)\n",
    "\n",
    "build_video.on_click(on_button_clicked)"
   ]
  },
  {
   "cell_type": "code",
   "execution_count": null,
   "id": "specific-shoot",
   "metadata": {},
   "outputs": [],
   "source": []
  }
 ],
 "metadata": {
  "interpreter": {
   "hash": "acddd3a6e1a4a8bb5895c7fa9b63a5905338482d277d6095df84b974999a7b5c"
  },
  "kernelspec": {
   "display_name": "Python 3",
   "language": "python",
   "name": "python3"
  },
  "language_info": {
   "codemirror_mode": {
    "name": "ipython",
    "version": 3
   },
   "file_extension": ".py",
   "mimetype": "text/x-python",
   "name": "python",
   "nbconvert_exporter": "python",
   "pygments_lexer": "ipython3",
   "version": "3.8.4"
  }
 },
 "nbformat": 4,
 "nbformat_minor": 5
}
