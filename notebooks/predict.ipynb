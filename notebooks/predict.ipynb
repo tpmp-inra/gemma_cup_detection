{
 "cells": [
  {
   "cell_type": "markdown",
   "source": [
    "# Gemma cup prediction"
   ],
   "metadata": {}
  },
  {
   "cell_type": "markdown",
   "source": [
    "## Imports"
   ],
   "metadata": {}
  },
  {
   "cell_type": "code",
   "execution_count": 1,
   "source": [
    "import os\r\n",
    "\r\n",
    "import pandas as pd\r\n",
    "import numpy as np\r\n",
    "import cv2\r\n",
    "\r\n",
    "%matplotlib inline\r\n",
    "import matplotlib.pyplot as plt\r\n",
    "import matplotlib.patches as patches\r\n",
    "\r\n",
    "from tqdm.notebook import tqdm\r\n",
    "\r\n",
    "import ipywidgets as widgets\r\n",
    "from IPython.display import Image as IpImage\r\n",
    "from IPython.display import display\r\n",
    "from ipywidgets import Button, HBox, VBox\r\n",
    "\r\n",
    "import torch\r\n",
    "from torchvision import transforms\r\n",
    "from torch.autograd import Variable\r\n",
    "from torch.utils.data import Dataset, DataLoader\r\n",
    "\r\n",
    "from skimage import transform\r\n",
    "\r\n",
    "from PIL import Image as PilImage"
   ],
   "outputs": [],
   "metadata": {}
  },
  {
   "cell_type": "markdown",
   "source": [
    "## Define constants"
   ],
   "metadata": {}
  },
  {
   "cell_type": "code",
   "execution_count": 2,
   "source": [
    "data_path = os.path.join(\"..\", \"data_in\")\r\n",
    "images_path =os.path.join(data_path, \"images\")"
   ],
   "outputs": [],
   "metadata": {}
  },
  {
   "cell_type": "markdown",
   "source": [
    "## Load dataframe"
   ],
   "metadata": {}
  },
  {
   "cell_type": "code",
   "execution_count": 3,
   "source": [
    "df: pd.DataFrame = pd.read_csv(\r\n",
    "    os.path.join(data_path, \"filename_to_hash_v2.csv\")\r\n",
    ").assign(\r\n",
    "    filename=lambda x: x.hash\r\n",
    ")\r\n",
    "df.sort_values([\"hash\"]).head()"
   ],
   "outputs": [
    {
     "output_type": "execute_result",
     "data": {
      "text/html": [
       "<div>\n",
       "<style scoped>\n",
       "    .dataframe tbody tr th:only-of-type {\n",
       "        vertical-align: middle;\n",
       "    }\n",
       "\n",
       "    .dataframe tbody tr th {\n",
       "        vertical-align: top;\n",
       "    }\n",
       "\n",
       "    .dataframe thead th {\n",
       "        text-align: right;\n",
       "    }\n",
       "</style>\n",
       "<table border=\"1\" class=\"dataframe\">\n",
       "  <thead>\n",
       "    <tr style=\"text-align: right;\">\n",
       "      <th></th>\n",
       "      <th>experiment</th>\n",
       "      <th>plant</th>\n",
       "      <th>date_time</th>\n",
       "      <th>camera</th>\n",
       "      <th>view_option</th>\n",
       "      <th>hash</th>\n",
       "      <th>date</th>\n",
       "      <th>time</th>\n",
       "      <th>filename</th>\n",
       "    </tr>\n",
       "  </thead>\n",
       "  <tbody>\n",
       "    <tr>\n",
       "      <th>1772</th>\n",
       "      <td>10ac_mpo1_1904</td>\n",
       "      <td>10ac309_ic_mock_xx_309</td>\n",
       "      <td>2019-05-12 10:10:09</td>\n",
       "      <td>msp</td>\n",
       "      <td>sw755</td>\n",
       "      <td>b-1HoJ-Hqz5STrwrZHGBYdjAE3Q.jpg</td>\n",
       "      <td>2019-05-12</td>\n",
       "      <td>10:10:09</td>\n",
       "      <td>b-1HoJ-Hqz5STrwrZHGBYdjAE3Q.jpg</td>\n",
       "    </tr>\n",
       "    <tr>\n",
       "      <th>3542</th>\n",
       "      <td>10ac_mpo1_1904</td>\n",
       "      <td>10ac79_nc_mock_xx_79</td>\n",
       "      <td>2019-05-12 05:46:06</td>\n",
       "      <td>msp</td>\n",
       "      <td>sw755</td>\n",
       "      <td>b-38OOnRNVd8OdKdmNYZXXy83E.jpg</td>\n",
       "      <td>2019-05-12</td>\n",
       "      <td>05:46:06</td>\n",
       "      <td>b-38OOnRNVd8OdKdmNYZXXy83E.jpg</td>\n",
       "    </tr>\n",
       "    <tr>\n",
       "      <th>902</th>\n",
       "      <td>10ac_mpo1_1904</td>\n",
       "      <td>10ac184_hb_mock_xx_184</td>\n",
       "      <td>2019-05-04 07:12:57</td>\n",
       "      <td>msp</td>\n",
       "      <td>sw755</td>\n",
       "      <td>b-3Q-HdqeuB2sRxMIzzUPNjZfLSw.jpg</td>\n",
       "      <td>2019-05-04</td>\n",
       "      <td>07:12:57</td>\n",
       "      <td>b-3Q-HdqeuB2sRxMIzzUPNjZfLSw.jpg</td>\n",
       "    </tr>\n",
       "    <tr>\n",
       "      <th>1847</th>\n",
       "      <td>10ac_mpo1_1904</td>\n",
       "      <td>10ac315_bu_mock_xx_315</td>\n",
       "      <td>2019-05-16 10:14:27</td>\n",
       "      <td>msp</td>\n",
       "      <td>sw755</td>\n",
       "      <td>b-3wnyR8oNsu-V149ZYfCL-dfeDk.jpg</td>\n",
       "      <td>2019-05-16</td>\n",
       "      <td>10:14:27</td>\n",
       "      <td>b-3wnyR8oNsu-V149ZYfCL-dfeDk.jpg</td>\n",
       "    </tr>\n",
       "    <tr>\n",
       "      <th>3625</th>\n",
       "      <td>10ac_mpo1_1904</td>\n",
       "      <td>10ac86_c2_mock_xx_86</td>\n",
       "      <td>2019-05-18 05:47:45</td>\n",
       "      <td>msp</td>\n",
       "      <td>sw755</td>\n",
       "      <td>b-4-5gzYj0rmr9-dvGMkA3-FNkEs.jpg</td>\n",
       "      <td>2019-05-18</td>\n",
       "      <td>05:47:45</td>\n",
       "      <td>b-4-5gzYj0rmr9-dvGMkA3-FNkEs.jpg</td>\n",
       "    </tr>\n",
       "  </tbody>\n",
       "</table>\n",
       "</div>"
      ],
      "text/plain": [
       "          experiment                   plant            date_time camera  \\\n",
       "1772  10ac_mpo1_1904  10ac309_ic_mock_xx_309  2019-05-12 10:10:09    msp   \n",
       "3542  10ac_mpo1_1904    10ac79_nc_mock_xx_79  2019-05-12 05:46:06    msp   \n",
       "902   10ac_mpo1_1904  10ac184_hb_mock_xx_184  2019-05-04 07:12:57    msp   \n",
       "1847  10ac_mpo1_1904  10ac315_bu_mock_xx_315  2019-05-16 10:14:27    msp   \n",
       "3625  10ac_mpo1_1904    10ac86_c2_mock_xx_86  2019-05-18 05:47:45    msp   \n",
       "\n",
       "     view_option                              hash        date      time  \\\n",
       "1772       sw755   b-1HoJ-Hqz5STrwrZHGBYdjAE3Q.jpg  2019-05-12  10:10:09   \n",
       "3542       sw755    b-38OOnRNVd8OdKdmNYZXXy83E.jpg  2019-05-12  05:46:06   \n",
       "902        sw755  b-3Q-HdqeuB2sRxMIzzUPNjZfLSw.jpg  2019-05-04  07:12:57   \n",
       "1847       sw755  b-3wnyR8oNsu-V149ZYfCL-dfeDk.jpg  2019-05-16  10:14:27   \n",
       "3625       sw755  b-4-5gzYj0rmr9-dvGMkA3-FNkEs.jpg  2019-05-18  05:47:45   \n",
       "\n",
       "                              filename  \n",
       "1772   b-1HoJ-Hqz5STrwrZHGBYdjAE3Q.jpg  \n",
       "3542    b-38OOnRNVd8OdKdmNYZXXy83E.jpg  \n",
       "902   b-3Q-HdqeuB2sRxMIzzUPNjZfLSw.jpg  \n",
       "1847  b-3wnyR8oNsu-V149ZYfCL-dfeDk.jpg  \n",
       "3625  b-4-5gzYj0rmr9-dvGMkA3-FNkEs.jpg  "
      ]
     },
     "metadata": {},
     "execution_count": 3
    }
   ],
   "metadata": {}
  },
  {
   "cell_type": "code",
   "execution_count": 4,
   "source": [
    "df.shape"
   ],
   "outputs": [
    {
     "output_type": "execute_result",
     "data": {
      "text/plain": [
       "(3769, 9)"
      ]
     },
     "metadata": {},
     "execution_count": 4
    }
   ],
   "metadata": {}
  },
  {
   "cell_type": "markdown",
   "source": [
    "## Test link to images"
   ],
   "metadata": {}
  },
  {
   "cell_type": "code",
   "execution_count": 5,
   "source": [
    "dd_sample = widgets.Dropdown(options=sorted(df.hash.to_list()))\r\n",
    "\r\n",
    "image_output = widgets.Output(layout={\"border\": \"1px solid black\"})\r\n",
    "\r\n",
    "def predict_gemma_cups(change):\r\n",
    "    image_output.clear_output()    \r\n",
    "    with image_output:\r\n",
    "        fig, ax = plt.subplots(1, 1, figsize=(16, 8))\r\n",
    "        ax.set_axis_off()\r\n",
    "        ax.imshow(PilImage.open(os.path.join(images_path, change.new)))\r\n",
    "        plt.show()\r\n",
    "\r\n",
    "    \r\n",
    "dd_sample.observe(predict_gemma_cups, names=\"value\")\r\n",
    "display(dd_sample, image_output)"
   ],
   "outputs": [
    {
     "output_type": "display_data",
     "data": {
      "application/vnd.jupyter.widget-view+json": {
       "version_major": 2,
       "version_minor": 0,
       "model_id": "8f0b6afb9dc24483b41e9e645d526e8b"
      },
      "text/plain": [
       "Dropdown(options=('b-1HoJ-Hqz5STrwrZHGBYdjAE3Q.jpg', 'b-38OOnRNVd8OdKdmNYZXXy83E.jpg', 'b-3Q-HdqeuB2sRxMIzzUPN…"
      ]
     },
     "metadata": {}
    },
    {
     "output_type": "display_data",
     "data": {
      "application/vnd.jupyter.widget-view+json": {
       "version_major": 2,
       "version_minor": 0,
       "model_id": "04ceca7b23154fe09352ded5764fec61"
      },
      "text/plain": [
       "Output(layout=Layout(border='1px solid black'))"
      ]
     },
     "metadata": {}
    }
   ],
   "metadata": {}
  },
  {
   "cell_type": "markdown",
   "source": [
    "## Set device"
   ],
   "metadata": {}
  },
  {
   "cell_type": "code",
   "execution_count": 6,
   "source": [
    "device = torch.device('cpu')\r\n",
    "device"
   ],
   "outputs": [
    {
     "output_type": "execute_result",
     "data": {
      "text/plain": [
       "device(type='cpu')"
      ]
     },
     "metadata": {},
     "execution_count": 6
    }
   ],
   "metadata": {}
  },
  {
   "cell_type": "markdown",
   "source": [
    "## Predict"
   ],
   "metadata": {}
  },
  {
   "cell_type": "markdown",
   "source": [
    "### Define image loader"
   ],
   "metadata": {}
  },
  {
   "cell_type": "code",
   "execution_count": 7,
   "source": [
    "def image_loader(image_name):\r\n",
    "    image = cv2.imread(\r\n",
    "        image_name,\r\n",
    "        cv2.IMREAD_COLOR,\r\n",
    "    )\r\n",
    "    image = cv2.cvtColor(\r\n",
    "        image, \r\n",
    "        cv2.COLOR_BGR2RGB\r\n",
    "    ).astype(np.float32)\r\n",
    "    image /= 255.0\r\n",
    "    image = transforms.ToTensor()(image)\r\n",
    "    return image.to(device)"
   ],
   "outputs": [],
   "metadata": {}
  },
  {
   "cell_type": "markdown",
   "source": [
    "### Load model"
   ],
   "metadata": {}
  },
  {
   "cell_type": "code",
   "execution_count": 8,
   "source": [
    "loaded_model = torch.load(os.path.join(\"..\", \"models\", \"default_model.pth\"))\r\n",
    "loaded_model.eval();"
   ],
   "outputs": [],
   "metadata": {}
  },
  {
   "cell_type": "markdown",
   "source": [
    "### Prediction cache data frame"
   ],
   "metadata": {}
  },
  {
   "cell_type": "code",
   "execution_count": 9,
   "source": [
    "cache_path = path_or_buf=os.path.join(\r\n",
    "    \"..\", \r\n",
    "    \"data_out\", \r\n",
    "    \"predictions_cache.csv\"\r\n",
    ")"
   ],
   "outputs": [],
   "metadata": {}
  },
  {
   "cell_type": "code",
   "execution_count": 10,
   "source": [
    "dfp = pd.read_csv(cache_path)"
   ],
   "outputs": [],
   "metadata": {}
  },
  {
   "cell_type": "code",
   "execution_count": 11,
   "source": [
    "dfp.describe()"
   ],
   "outputs": [
    {
     "output_type": "execute_result",
     "data": {
      "text/html": [
       "<div>\n",
       "<style scoped>\n",
       "    .dataframe tbody tr th:only-of-type {\n",
       "        vertical-align: middle;\n",
       "    }\n",
       "\n",
       "    .dataframe tbody tr th {\n",
       "        vertical-align: top;\n",
       "    }\n",
       "\n",
       "    .dataframe thead th {\n",
       "        text-align: right;\n",
       "    }\n",
       "</style>\n",
       "<table border=\"1\" class=\"dataframe\">\n",
       "  <thead>\n",
       "    <tr style=\"text-align: right;\">\n",
       "      <th></th>\n",
       "      <th>x1</th>\n",
       "      <th>y1</th>\n",
       "      <th>x2</th>\n",
       "      <th>y2</th>\n",
       "      <th>score</th>\n",
       "    </tr>\n",
       "  </thead>\n",
       "  <tbody>\n",
       "    <tr>\n",
       "      <th>count</th>\n",
       "      <td>3347.000000</td>\n",
       "      <td>3347.000000</td>\n",
       "      <td>3347.000000</td>\n",
       "      <td>3347.000000</td>\n",
       "      <td>3347.000000</td>\n",
       "    </tr>\n",
       "    <tr>\n",
       "      <th>mean</th>\n",
       "      <td>751.479892</td>\n",
       "      <td>765.080984</td>\n",
       "      <td>805.565084</td>\n",
       "      <td>818.671218</td>\n",
       "      <td>0.627654</td>\n",
       "    </tr>\n",
       "    <tr>\n",
       "      <th>std</th>\n",
       "      <td>155.036084</td>\n",
       "      <td>160.069265</td>\n",
       "      <td>154.230491</td>\n",
       "      <td>160.638678</td>\n",
       "      <td>0.393604</td>\n",
       "    </tr>\n",
       "    <tr>\n",
       "      <th>min</th>\n",
       "      <td>43.064606</td>\n",
       "      <td>22.946793</td>\n",
       "      <td>96.588043</td>\n",
       "      <td>111.769791</td>\n",
       "      <td>0.050009</td>\n",
       "    </tr>\n",
       "    <tr>\n",
       "      <th>25%</th>\n",
       "      <td>642.701721</td>\n",
       "      <td>664.588135</td>\n",
       "      <td>698.362885</td>\n",
       "      <td>721.590424</td>\n",
       "      <td>0.158386</td>\n",
       "    </tr>\n",
       "    <tr>\n",
       "      <th>50%</th>\n",
       "      <td>743.151978</td>\n",
       "      <td>766.627869</td>\n",
       "      <td>798.099915</td>\n",
       "      <td>820.228027</td>\n",
       "      <td>0.898025</td>\n",
       "    </tr>\n",
       "    <tr>\n",
       "      <th>75%</th>\n",
       "      <td>856.923889</td>\n",
       "      <td>868.271423</td>\n",
       "      <td>911.485687</td>\n",
       "      <td>921.098755</td>\n",
       "      <td>0.980223</td>\n",
       "    </tr>\n",
       "    <tr>\n",
       "      <th>max</th>\n",
       "      <td>1599.763428</td>\n",
       "      <td>1599.624146</td>\n",
       "      <td>1600.000000</td>\n",
       "      <td>1599.994995</td>\n",
       "      <td>0.994229</td>\n",
       "    </tr>\n",
       "  </tbody>\n",
       "</table>\n",
       "</div>"
      ],
      "text/plain": [
       "                x1           y1           x2           y2        score\n",
       "count  3347.000000  3347.000000  3347.000000  3347.000000  3347.000000\n",
       "mean    751.479892   765.080984   805.565084   818.671218     0.627654\n",
       "std     155.036084   160.069265   154.230491   160.638678     0.393604\n",
       "min      43.064606    22.946793    96.588043   111.769791     0.050009\n",
       "25%     642.701721   664.588135   698.362885   721.590424     0.158386\n",
       "50%     743.151978   766.627869   798.099915   820.228027     0.898025\n",
       "75%     856.923889   868.271423   911.485687   921.098755     0.980223\n",
       "max    1599.763428  1599.624146  1600.000000  1599.994995     0.994229"
      ]
     },
     "metadata": {},
     "execution_count": 11
    }
   ],
   "metadata": {}
  },
  {
   "cell_type": "markdown",
   "source": [
    "### Prediction function"
   ],
   "metadata": {}
  },
  {
   "cell_type": "code",
   "execution_count": 12,
   "source": [
    "def predict_boxes(hash, threshold, swap_colors: bool = True):\r\n",
    "    global dfp\r\n",
    "    \r\n",
    "    tmp = dfp[dfp.hash == hash]\r\n",
    "    if tmp.shape[0] > 0:\r\n",
    "        boxes = [[x1, y1, x2, y2] for x1, y1, x2, y2 in zip(tmp.x1, tmp.y1, tmp.x2, tmp.y2)]\r\n",
    "        scores = [s for s in tmp.score.to_list()]\r\n",
    "    else:\r\n",
    "        images = [image_loader(os.path.join(images_path, hash))]\r\n",
    "        res = loaded_model(images)    \r\n",
    "        boxes = res[0][\"boxes\"].data.cpu().numpy()\r\n",
    "        scores = res[0][\"scores\"].data.cpu().numpy()\r\n",
    "        tmp = pd.DataFrame(\r\n",
    "            {\r\n",
    "                \"hash\": [hash for _ in scores], \r\n",
    "                \"x1\": [b[0] for b in boxes],\r\n",
    "                \"y1\": [b[1] for b in boxes],\r\n",
    "                \"x2\": [b[2] for b in boxes], \r\n",
    "                \"y2\": [b[3] for b in boxes], \r\n",
    "                \"score\": [s for s in scores]\r\n",
    "            }\r\n",
    "        )\r\n",
    "        dfp = pd.concat([dfp, tmp])\r\n",
    "        dfp.to_csv(\r\n",
    "            cache_path,\r\n",
    "            index=False,\r\n",
    "        )\r\n",
    "        \r\n",
    "    img = cv2.imread(\r\n",
    "        os.path.join(images_path, hash),\r\n",
    "        cv2.IMREAD_COLOR,\r\n",
    "    )\r\n",
    "    if swap_colors is True:\r\n",
    "        img = cv2.cvtColor(img, cv2.COLOR_BGR2RGB)\r\n",
    "    for box, score in zip(boxes, scores):\r\n",
    "        if score < threshold:\r\n",
    "            continue\r\n",
    "        color = (int((1- score) * 255), 0, int(score * 255)) if swap_colors is True else (int(score * 255), 0, int((1 - score) * 255))\r\n",
    "        cv2.rectangle(\r\n",
    "            img,\r\n",
    "            (int(box[0]), int(box[1])),\r\n",
    "            (int(box[2]), int(box[3])),\r\n",
    "            color, \r\n",
    "            3\r\n",
    "        )\r\n",
    "    \r\n",
    "    return boxes, scores, img, tmp"
   ],
   "outputs": [],
   "metadata": {}
  },
  {
   "cell_type": "markdown",
   "source": [
    "### Predicion widget"
   ],
   "metadata": {}
  },
  {
   "cell_type": "code",
   "execution_count": 13,
   "source": [
    "dd_sample = widgets.Dropdown(options=sorted(df.hash.to_list()))\r\n",
    "\r\n",
    "image_output = widgets.Output(layout={\"border\": \"1px solid black\"})\r\n",
    "rects_output = widgets.Output(layout={\"border\": \"1px solid black\"})\r\n",
    "score_threshold = widgets.FloatSlider(\r\n",
    "    value=0.8, \r\n",
    "    min=0, \r\n",
    "    max=1.0, \r\n",
    "    decsiption=\"Score threshold\"\r\n",
    ")\r\n",
    "\r\n",
    "def predict_gemma_cups(hash, threshold):\r\n",
    "    \r\n",
    "    \r\n",
    "    image_output.clear_output()\r\n",
    "    rects_output.clear_output()\r\n",
    "    \r\n",
    "    boxes, scores, img, tmp_df = predict_boxes(hash=hash, threshold=threshold)    \r\n",
    "    \r\n",
    "    with image_output:\r\n",
    "        fig, ax = plt.subplots(1, 1, figsize=(14, 14))\r\n",
    "        ax.set_axis_off()\r\n",
    "        ax.imshow(img)        \r\n",
    "        plt.show()\r\n",
    "    \r\n",
    "    with rects_output:\r\n",
    "        display(\r\n",
    "            tmp_df.sort_values(\r\n",
    "                [\"score\"], \r\n",
    "                ascending=False\r\n",
    "            ).reset_index()\r\n",
    "        )\r\n",
    "        \r\n",
    "def on_image_changed(change):\r\n",
    "    predict_gemma_cups(change.new, score_threshold.value)\r\n",
    "        \r\n",
    "def on_threshold_changed(change):\r\n",
    "    predict_gemma_cups(dd_sample.value, change.new)\r\n",
    "\r\n",
    "    \r\n",
    "dd_sample.observe(on_image_changed, names=\"value\")\r\n",
    "score_threshold.observe(on_threshold_changed, names=\"value\")\r\n",
    "\r\n",
    "display(HBox([dd_sample, score_threshold]), HBox([image_output, rects_output]))"
   ],
   "outputs": [
    {
     "output_type": "display_data",
     "data": {
      "application/vnd.jupyter.widget-view+json": {
       "version_major": 2,
       "version_minor": 0,
       "model_id": "497c973b327f4e9fbcfd53a67cc18e20"
      },
      "text/plain": [
       "HBox(children=(Dropdown(options=('b-1HoJ-Hqz5STrwrZHGBYdjAE3Q.jpg', 'b-38OOnRNVd8OdKdmNYZXXy83E.jpg', 'b-3Q-Hd…"
      ]
     },
     "metadata": {}
    },
    {
     "output_type": "display_data",
     "data": {
      "application/vnd.jupyter.widget-view+json": {
       "version_major": 2,
       "version_minor": 0,
       "model_id": "3035194a08124238a031a986b1d578da"
      },
      "text/plain": [
       "HBox(children=(Output(layout=Layout(border='1px solid black')), Output(layout=Layout(border='1px solid black')…"
      ]
     },
     "metadata": {}
    }
   ],
   "metadata": {}
  },
  {
   "cell_type": "markdown",
   "source": [
    "## Build videos"
   ],
   "metadata": {}
  },
  {
   "cell_type": "code",
   "execution_count": 14,
   "source": [
    "plants = widgets.SelectMultiple(\r\n",
    "    options=sorted(df.plant.unique()),\r\n",
    "    value=[],\r\n",
    "    #rows=10,\r\n",
    "    description='Plants',\r\n",
    "    disabled=False\r\n",
    ")\r\n",
    "threshold = widgets.FloatSlider(\r\n",
    "    value=0.80, \r\n",
    "    min=0, \r\n",
    "    max=1.0,\r\n",
    "    step=0.05,\r\n",
    "    description=\"Score threshold\"\r\n",
    ")\r\n",
    "build_video = widgets.Button(description=\"Build video\")\r\n",
    "progress_output = widgets.Output()\r\n",
    "output = widgets.Output()\r\n",
    "\r\n",
    "display(HBox([plants, threshold, build_video]), progress_output, output)\r\n",
    "\r\n",
    "def on_button_clicked(b):\r\n",
    "    progress_output.clear_output()\r\n",
    "    \r\n",
    "    with progress_output:\r\n",
    "        with tqdm(total=len(plants.value)) as gpbar:\r\n",
    "            for plant in plants.value:    \r\n",
    "                df_tmp = df[\r\n",
    "                    df.plant == plant\r\n",
    "                ].sort_values(\r\n",
    "                    [\"date_time\"]\r\n",
    "                ).reset_index()\r\n",
    "                output.clear_output()\r\n",
    "\r\n",
    "                with output:\r\n",
    "                    frame_rate = 24.0\r\n",
    "                    frame_duration = 6\r\n",
    "                    v_height, v_width = 640, 640\r\n",
    "                    v_output = os.path.join(\r\n",
    "                        \"..\", \r\n",
    "                        \"data_out\", \r\n",
    "                        \"videos\", \r\n",
    "                        f\"{plant}_{threshold.value:.2f}.mp4\"\r\n",
    "                    )\r\n",
    "\r\n",
    "                    fourcc = cv2.VideoWriter_fourcc(*\"mp4v\")\r\n",
    "                    out = cv2.VideoWriter(v_output, fourcc, frame_rate, (v_width, v_height))\r\n",
    "\r\n",
    "\r\n",
    "\r\n",
    "                    with tqdm(total=df_tmp.shape[0]) as pbar:\r\n",
    "                        for hash in df_tmp.hash.to_list():\r\n",
    "                            _, _, img, _ = predict_boxes(\r\n",
    "                                hash=hash, \r\n",
    "                                threshold=threshold.value, \r\n",
    "                                swap_colors=False,\r\n",
    "                            )\r\n",
    "                            img = cv2.resize(\r\n",
    "                                img, \r\n",
    "                                (v_width, v_height), \r\n",
    "                                interpolation=cv2.INTER_CUBIC\r\n",
    "                            )                \r\n",
    "                            for _ in range(0, frame_duration):\r\n",
    "                                out.write(img)\r\n",
    "                            pbar.update(1)\r\n",
    "                gpbar.update(1)\r\n",
    "\r\n",
    "build_video.on_click(on_button_clicked)"
   ],
   "outputs": [
    {
     "output_type": "display_data",
     "data": {
      "application/vnd.jupyter.widget-view+json": {
       "model_id": "3d6310fb66094dd1ab594f062ab9a471",
       "version_major": 2,
       "version_minor": 0
      },
      "text/plain": [
       "HBox(children=(SelectMultiple(description='Plants', options=('10ac100_ca_mock_xx_100', '10ac101_ts_mock_xx_101…"
      ]
     },
     "metadata": {}
    },
    {
     "output_type": "display_data",
     "data": {
      "application/vnd.jupyter.widget-view+json": {
       "model_id": "15f632bfe77e4a67a233092141caf6ce",
       "version_major": 2,
       "version_minor": 0
      },
      "text/plain": [
       "Output()"
      ]
     },
     "metadata": {}
    },
    {
     "output_type": "display_data",
     "data": {
      "application/vnd.jupyter.widget-view+json": {
       "model_id": "e0bf1682896c40e99a7f37561f518f08",
       "version_major": 2,
       "version_minor": 0
      },
      "text/plain": [
       "Output()"
      ]
     },
     "metadata": {}
    }
   ],
   "metadata": {}
  }
 ],
 "metadata": {
  "kernelspec": {
   "name": "python3",
   "display_name": "Python 3.8.4 64-bit ('env': venv)"
  },
  "language_info": {
   "codemirror_mode": {
    "name": "ipython",
    "version": 3
   },
   "file_extension": ".py",
   "mimetype": "text/x-python",
   "name": "python",
   "nbconvert_exporter": "python",
   "pygments_lexer": "ipython3",
   "version": "3.8.4"
  },
  "interpreter": {
   "hash": "acddd3a6e1a4a8bb5895c7fa9b63a5905338482d277d6095df84b974999a7b5c"
  }
 },
 "nbformat": 4,
 "nbformat_minor": 5
}