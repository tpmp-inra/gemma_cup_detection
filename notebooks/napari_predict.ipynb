{
 "cells": [
  {
   "cell_type": "markdown",
   "metadata": {},
   "source": [
    "# Napari prediction UI"
   ]
  },
  {
   "cell_type": "markdown",
   "metadata": {},
   "source": [
    "# Imports"
   ]
  },
  {
   "cell_type": "code",
   "execution_count": 1,
   "metadata": {},
   "outputs": [
    {
     "name": "stderr",
     "output_type": "stream",
     "text": [
      "c:\\users\\fmavianemac\\documents\\felicia\\python\\gemma_cup_detection\\env\\lib\\site-packages\\paramiko\\transport.py:236: CryptographyDeprecationWarning: Blowfish has been deprecated\n",
      "  \"class\": algorithms.Blowfish,\n"
     ]
    }
   ],
   "source": [
    "import os\n",
    "\n",
    "import napari\n",
    "from skimage.io import imread"
   ]
  },
  {
   "cell_type": "code",
   "execution_count": 5,
   "metadata": {},
   "outputs": [
    {
     "data": {
      "text/plain": [
       "<Image layer 'napari_island' at 0x1d9951c3790>"
      ]
     },
     "execution_count": 5,
     "metadata": {},
     "output_type": "execute_result"
    }
   ],
   "source": [
    "viewer = napari.Viewer()\n",
    "napari_image = imread(os.path.join(\"..\", \"data_in\", \"backgrounds\",'21_Map_of_Tabuaeran_Kiribati_blue.png'))      # Reads an image from file\n",
    "viewer.add_image(napari_image, name='napari_island')                # Adds the image to the viewer and give the image layer a name"
   ]
  },
  {
   "cell_type": "code",
   "execution_count": 7,
   "metadata": {},
   "outputs": [
    {
     "ename": "NameError",
     "evalue": "name '__file__' is not defined",
     "output_type": "error",
     "traceback": [
      "\u001b[1;31m---------------------------------------------------------------------------\u001b[0m",
      "\u001b[1;31mNameError\u001b[0m                                 Traceback (most recent call last)",
      "\u001b[1;32m<ipython-input-7-5d202738ba50>\u001b[0m in \u001b[0;36m<module>\u001b[1;34m\u001b[0m\n\u001b[0;32m     17\u001b[0m \u001b[0mviewer\u001b[0m\u001b[1;33m.\u001b[0m\u001b[0madd_image\u001b[0m\u001b[1;33m(\u001b[0m\u001b[0mnapari_image\u001b[0m\u001b[1;33m,\u001b[0m \u001b[0mname\u001b[0m\u001b[1;33m=\u001b[0m\u001b[1;34m'napari_island'\u001b[0m\u001b[1;33m)\u001b[0m                \u001b[1;31m# Adds the image to the viewer and give the image layer a name\u001b[0m\u001b[1;33m\u001b[0m\u001b[1;33m\u001b[0m\u001b[0m\n\u001b[0;32m     18\u001b[0m \u001b[1;33m\u001b[0m\u001b[0m\n\u001b[1;32m---> 19\u001b[1;33m \u001b[0mflood_widget\u001b[0m \u001b[1;33m=\u001b[0m \u001b[0mFancyGUI\u001b[0m\u001b[1;33m(\u001b[0m\u001b[0mviewer\u001b[0m\u001b[1;33m)\u001b[0m                                     \u001b[1;31m# Create instance from our class\u001b[0m\u001b[1;33m\u001b[0m\u001b[1;33m\u001b[0m\u001b[0m\n\u001b[0m\u001b[0;32m     20\u001b[0m \u001b[0mviewer\u001b[0m\u001b[1;33m.\u001b[0m\u001b[0mwindow\u001b[0m\u001b[1;33m.\u001b[0m\u001b[0madd_dock_widget\u001b[0m\u001b[1;33m(\u001b[0m\u001b[0mflood_widget\u001b[0m\u001b[1;33m,\u001b[0m \u001b[0marea\u001b[0m\u001b[1;33m=\u001b[0m\u001b[1;34m'right'\u001b[0m\u001b[1;33m)\u001b[0m           \u001b[1;31m# Add our gui instance to napari viewer\u001b[0m\u001b[1;33m\u001b[0m\u001b[1;33m\u001b[0m\u001b[0m\n",
      "\u001b[1;32m<ipython-input-7-5d202738ba50>\u001b[0m in \u001b[0;36m__init__\u001b[1;34m(self, napari_viewer)\u001b[0m\n\u001b[0;32m     10\u001b[0m         \u001b[0msuper\u001b[0m\u001b[1;33m(\u001b[0m\u001b[1;33m)\u001b[0m\u001b[1;33m.\u001b[0m\u001b[0m__init__\u001b[0m\u001b[1;33m(\u001b[0m\u001b[1;33m)\u001b[0m\u001b[1;33m\u001b[0m\u001b[1;33m\u001b[0m\u001b[0m\n\u001b[0;32m     11\u001b[0m         \u001b[0mself\u001b[0m\u001b[1;33m.\u001b[0m\u001b[0mviewer\u001b[0m \u001b[1;33m=\u001b[0m \u001b[0mnapari_viewer\u001b[0m\u001b[1;33m\u001b[0m\u001b[1;33m\u001b[0m\u001b[0m\n\u001b[1;32m---> 12\u001b[1;33m         \u001b[0mself\u001b[0m\u001b[1;33m.\u001b[0m\u001b[0mUI_FILE\u001b[0m \u001b[1;33m=\u001b[0m \u001b[0mstr\u001b[0m\u001b[1;33m(\u001b[0m\u001b[0mPath\u001b[0m\u001b[1;33m(\u001b[0m\u001b[0m__file__\u001b[0m\u001b[1;33m)\u001b[0m\u001b[1;33m.\u001b[0m\u001b[0mparent\u001b[0m \u001b[1;33m/\u001b[0m \u001b[1;34m\"flood_tool.ui\"\u001b[0m\u001b[1;33m)\u001b[0m  \u001b[1;31m# path to .ui file\u001b[0m\u001b[1;33m\u001b[0m\u001b[1;33m\u001b[0m\u001b[0m\n\u001b[0m\u001b[0;32m     13\u001b[0m         \u001b[0muic\u001b[0m\u001b[1;33m.\u001b[0m\u001b[0mloadUi\u001b[0m\u001b[1;33m(\u001b[0m\u001b[0mself\u001b[0m\u001b[1;33m.\u001b[0m\u001b[0mUI_FILE\u001b[0m\u001b[1;33m,\u001b[0m \u001b[0mself\u001b[0m\u001b[1;33m)\u001b[0m           \u001b[1;31m# load QtDesigner .ui file\u001b[0m\u001b[1;33m\u001b[0m\u001b[1;33m\u001b[0m\u001b[0m\n\u001b[0;32m     14\u001b[0m \u001b[1;33m\u001b[0m\u001b[0m\n",
      "\u001b[1;31mNameError\u001b[0m: name '__file__' is not defined"
     ]
    }
   ],
   "source": [
    "import napari\n",
    "from skimage.io import imread\n",
    "from qtpy.QtWidgets import QMainWindow\n",
    "from qtpy import uic\n",
    "from pathlib import Path\n",
    "\n",
    "# Define the main window class\n",
    "class FancyGUI(QMainWindow):\n",
    "    def __init__(self, napari_viewer):          # include napari_viewer as argument (it has to have this name)\n",
    "        super().__init__()\n",
    "        self.viewer = napari_viewer\n",
    "        self.UI_FILE = str(Path(__file__).parent / \"flood_tool.ui\")  # path to .ui file\n",
    "        uic.loadUi(self.UI_FILE, self)           # load QtDesigner .ui file\n",
    "\n",
    "viewer = napari.Viewer()\n",
    "napari_image = imread(os.path.join(\"..\", \"data_in\", \"backgrounds\",'21_Map_of_Tabuaeran_Kiribati_blue.png'))      # Reads an image from file\n",
    "viewer.add_image(napari_image, name='napari_island')                # Adds the image to the viewer and give the image layer a name\n",
    "\n",
    "flood_widget = FancyGUI(viewer)                                     # Create instance from our class\n",
    "viewer.window.add_dock_widget(flood_widget, area='right')           # Add our gui instance to napari viewer"
   ]
  },
  {
   "cell_type": "code",
   "execution_count": null,
   "metadata": {},
   "outputs": [],
   "source": []
  }
 ],
 "metadata": {
  "interpreter": {
   "hash": "f6cac21b18548e0a5323cb059ecbd5963f8a0ef288b3cac1da12126da1986fa8"
  },
  "kernelspec": {
   "display_name": "Python 3",
   "language": "python",
   "name": "python3"
  },
  "language_info": {
   "codemirror_mode": {
    "name": "ipython",
    "version": 3
   },
   "file_extension": ".py",
   "mimetype": "text/x-python",
   "name": "python",
   "nbconvert_exporter": "python",
   "pygments_lexer": "ipython3",
   "version": "3.8.4"
  }
 },
 "nbformat": 4,
 "nbformat_minor": 4
}
