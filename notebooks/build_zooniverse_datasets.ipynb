{
 "cells": [
  {
   "attachments": {},
   "cell_type": "markdown",
   "metadata": {},
   "source": [
    "# Build Zooniverse Dataset"
   ]
  },
  {
   "attachments": {},
   "cell_type": "markdown",
   "metadata": {},
   "source": [
    "## Imports"
   ]
  },
  {
   "cell_type": "code",
   "execution_count": null,
   "metadata": {},
   "outputs": [],
   "source": [
    "%load_ext autoreload\n",
    "%autoreload 2"
   ]
  },
  {
   "cell_type": "code",
   "execution_count": null,
   "metadata": {},
   "outputs": [],
   "source": [
    "from pathlib import Path\n",
    "import json\n",
    "import warnings\n",
    "\n",
    "import pandas as pd\n",
    "import numpy as np\n",
    "\n",
    "import matplotlib.pyplot as plt\n",
    "import matplotlib.patches as patches\n",
    "\n",
    "import ipywidgets as widgets\n",
    "from IPython.display import Image as IpImage\n",
    "from IPython.display import display\n",
    "from ipywidgets import HBox\n"
   ]
  },
  {
   "attachments": {},
   "cell_type": "markdown",
   "metadata": {},
   "source": [
    "## Remove Warnings"
   ]
  },
  {
   "cell_type": "code",
   "execution_count": null,
   "metadata": {},
   "outputs": [],
   "source": [
    "warnings.simplefilter(action=\"ignore\", category=UserWarning)\n",
    "warnings.simplefilter(action=\"ignore\", category=FutureWarning)\n",
    "warnings.simplefilter(action=\"ignore\", category=DeprecationWarning)\n"
   ]
  },
  {
   "attachments": {},
   "cell_type": "markdown",
   "metadata": {},
   "source": [
    "## Constants"
   ]
  },
  {
   "cell_type": "code",
   "execution_count": null,
   "metadata": {},
   "outputs": [],
   "source": [
    "data_in_path = Path(\"..\").joinpath(\"data_in\")\n",
    "\n",
    "csvs_path = data_in_path.joinpath(\"csvs\")\n",
    "images_path = data_in_path.joinpath(\"images\")\n",
    "dataset_path = data_in_path.joinpath(\"datasets\")\n",
    "\n",
    "data_in_path.is_dir(), csvs_path.is_dir(), images_path.is_dir(), dataset_path.is_dir()\n"
   ]
  },
  {
   "attachments": {},
   "cell_type": "markdown",
   "metadata": {},
   "source": [
    "## Handle Zooniverse Raw Data"
   ]
  },
  {
   "attachments": {},
   "cell_type": "markdown",
   "metadata": {},
   "source": [
    "### Load Source Dataframe"
   ]
  },
  {
   "cell_type": "code",
   "execution_count": null,
   "metadata": {},
   "outputs": [],
   "source": [
    "df = (\n",
    "    pd.read_csv(\n",
    "        str(csvs_path.joinpath(\"fancy-a-cup-of-marchantia-classifications_final.csv\"))\n",
    "    )\n",
    "    .sort_values([\"user_name\", \"created_at\", \"subject_ids\"])\n",
    "    .reset_index()\n",
    ")\n",
    "df = df[df.workflow_name == \"Draw rectangles around the gemma cups\"]\n",
    "df\n"
   ]
  },
  {
   "attachments": {},
   "cell_type": "markdown",
   "metadata": {},
   "source": [
    "### Expand Columns"
   ]
  },
  {
   "attachments": {},
   "cell_type": "markdown",
   "metadata": {},
   "source": [
    "#### Metadata"
   ]
  },
  {
   "cell_type": "code",
   "execution_count": null,
   "metadata": {},
   "outputs": [],
   "source": [
    "metadata = df[\"metadata\"].apply(lambda x: json.loads(x)).apply(pd.Series)\n",
    "metadata\n"
   ]
  },
  {
   "cell_type": "code",
   "execution_count": null,
   "metadata": {},
   "outputs": [],
   "source": [
    "subject_selection_state = (\n",
    "    metadata[\"subject_selection_state\"].apply(pd.Series).drop([0], axis=1)\n",
    ")\n",
    "subject_selection_state\n"
   ]
  },
  {
   "cell_type": "code",
   "execution_count": null,
   "metadata": {},
   "outputs": [],
   "source": [
    "viewport = metadata[\"viewport\"].apply(pd.Series)\n",
    "viewport\n"
   ]
  },
  {
   "cell_type": "code",
   "execution_count": null,
   "metadata": {},
   "outputs": [],
   "source": [
    "interventions = metadata[\"interventions\"].apply(pd.Series).drop([0], axis=1)\n",
    "interventions\n"
   ]
  },
  {
   "cell_type": "code",
   "execution_count": null,
   "metadata": {},
   "outputs": [],
   "source": [
    "subject_dimensions = metadata[\"subject_dimensions\"].apply(pd.Series)\n",
    "subject_dimensions\n"
   ]
  },
  {
   "cell_type": "code",
   "execution_count": null,
   "metadata": {},
   "outputs": [],
   "source": [
    "subject_dimensions[0].apply(pd.Series)\n"
   ]
  },
  {
   "cell_type": "code",
   "execution_count": null,
   "metadata": {},
   "outputs": [],
   "source": [
    "df_xµd = pd.concat(\n",
    "    [\n",
    "        df.drop([\"metadata\"], axis=1),\n",
    "        subject_selection_state,\n",
    "        viewport,\n",
    "        metadata.drop(\n",
    "            [\n",
    "                \"viewport\",\n",
    "                \"interventions\",\n",
    "                \"subject_dimensions\",\n",
    "                \"subject_selection_state\",\n",
    "            ],\n",
    "            axis=1,\n",
    "        ),\n",
    "    ],\n",
    "    axis=1,\n",
    ")\n",
    "df_xµd\n"
   ]
  },
  {
   "attachments": {},
   "cell_type": "markdown",
   "metadata": {},
   "source": [
    "### Avoid issues with same name columns"
   ]
  },
  {
   "cell_type": "code",
   "execution_count": null,
   "metadata": {},
   "outputs": [],
   "source": [
    "df_xµd[\"retired_bool\"] = df_xµd.retired\n",
    "df_xµd = df_xµd.drop([\"retired\"], axis=1)\n",
    "df_xµd[\"creation_time\"] = df_xµd.created_at\n",
    "df_xµd = df_xµd.drop([\"created_at\"], axis=1)\n",
    "df_xµd\n"
   ]
  },
  {
   "attachments": {},
   "cell_type": "markdown",
   "metadata": {},
   "source": [
    "### Split subject_data and annotations"
   ]
  },
  {
   "cell_type": "code",
   "execution_count": null,
   "metadata": {},
   "outputs": [],
   "source": [
    "dfx = pd.concat(\n",
    "    [\n",
    "        df_xµd.drop([\"subject_data\", \"annotations\"], axis=1),\n",
    "        df_xµd[\"subject_data\"]\n",
    "        .apply(lambda x: list(json.loads(x).values())[0])\n",
    "        .apply(pd.Series),\n",
    "        df_xµd[\"annotations\"].str[1:-1].apply(lambda x: json.loads(x)).apply(pd.Series),\n",
    "    ],\n",
    "    axis=1,\n",
    ")\n",
    "dfx = (\n",
    "    pd.concat(\n",
    "        [\n",
    "            dfx.drop([\"retired\"], axis=1),\n",
    "            dfx[\"retired\"].apply(pd.Series),\n",
    "        ],\n",
    "        axis=1,\n",
    "    )\n",
    "    .rename(str.lower, axis=\"columns\")\n",
    "    .sort_values(by=[\"user_name\", \"filename\", \"created_at\"])\n",
    ")\n",
    "dfx\n"
   ]
  },
  {
   "cell_type": "code",
   "execution_count": null,
   "metadata": {},
   "outputs": [],
   "source": [
    "df_xµd[\"annotations\"].str[1:-1].apply(lambda x: json.loads(x)).apply(pd.Series)\n"
   ]
  },
  {
   "cell_type": "code",
   "execution_count": null,
   "metadata": {},
   "outputs": [],
   "source": [
    "df_xµd[\"subject_data\"].apply(lambda x: list(json.loads(x).values())[0]).apply(pd.Series)\n"
   ]
  },
  {
   "attachments": {},
   "cell_type": "markdown",
   "metadata": {},
   "source": [
    "### Fix User Agent"
   ]
  },
  {
   "cell_type": "code",
   "execution_count": null,
   "metadata": {},
   "outputs": [],
   "source": [
    "dfx.user_agent = dfx.user_agent.str[13:28]\n",
    "dfx.user_agent.unique()\n"
   ]
  },
  {
   "cell_type": "code",
   "execution_count": null,
   "metadata": {},
   "outputs": [],
   "source": [
    "dfx.user_agent = np.select(\n",
    "    [\n",
    "        dfx.user_agent == \"Windows NT 10.0\",\n",
    "        dfx.user_agent == \"Macintosh; Inte\",\n",
    "        dfx.user_agent == \"Linux; Android \",\n",
    "        dfx.user_agent == \"X11; CrOS x86_6\",\n",
    "        dfx.user_agent == \"Windows NT 6.1;\",\n",
    "        dfx.user_agent == \"iPhone; CPU iPh\",\n",
    "        dfx.user_agent == \"X11; Linux x86_\",\n",
    "        dfx.user_agent == \"Windows NT 6.3;\",\n",
    "        dfx.user_agent == \"iPad; CPU OS 12\",\n",
    "    ],\n",
    "    [\n",
    "        \"Windows 10\",\n",
    "        \"OSX\",\n",
    "        \"Android\",\n",
    "        \"Chrome OS\",\n",
    "        \"Windows 7\",\n",
    "        \"iPhone\",\n",
    "        \"Linux\",\n",
    "        \"Windows 8.1\",\n",
    "        \"iPad\",\n",
    "    ],\n",
    "    default=\"Oops\",\n",
    ")\n",
    "dfx.user_agent.unique()\n"
   ]
  },
  {
   "attachments": {},
   "cell_type": "markdown",
   "metadata": {},
   "source": [
    "### Keep only needed columns"
   ]
  },
  {
   "cell_type": "code",
   "execution_count": null,
   "metadata": {},
   "outputs": [],
   "source": [
    "dfx\n"
   ]
  },
  {
   "cell_type": "code",
   "execution_count": null,
   "metadata": {},
   "outputs": [],
   "source": [
    "df_keep = dfx[\n",
    "    [\n",
    "        \"user_name\",\n",
    "        \"user_agent\",\n",
    "        \"filename\",\n",
    "        \"value\",\n",
    "        \"classifications_count\",\n",
    "        \"creation_time\",\n",
    "    ]\n",
    "]\n",
    "df_keep\n"
   ]
  },
  {
   "attachments": {},
   "cell_type": "markdown",
   "metadata": {},
   "source": [
    "### Count Observations"
   ]
  },
  {
   "cell_type": "code",
   "execution_count": null,
   "metadata": {},
   "outputs": [],
   "source": [
    "df_keep[\"rect_count\"] = df_keep.value.apply(lambda x: len(x))\n",
    "df_keep\n"
   ]
  },
  {
   "attachments": {},
   "cell_type": "markdown",
   "metadata": {},
   "source": [
    "### Filter Images exists"
   ]
  },
  {
   "cell_type": "code",
   "execution_count": null,
   "metadata": {},
   "outputs": [],
   "source": [
    "df_keep.filename.unique().shape\n"
   ]
  },
  {
   "cell_type": "code",
   "execution_count": null,
   "metadata": {},
   "outputs": [],
   "source": [
    "existing_files = [\n",
    "    f\n",
    "    for f in df_keep.filename.sort_values().unique()\n",
    "    if images_path.joinpath(f).is_file()\n",
    "]\n",
    "len(existing_files)\n"
   ]
  },
  {
   "cell_type": "code",
   "execution_count": null,
   "metadata": {},
   "outputs": [],
   "source": [
    "df_filter_files = df_keep[df_keep.filename.isin(existing_files)]\n",
    "df_filter_files\n"
   ]
  },
  {
   "attachments": {},
   "cell_type": "markdown",
   "metadata": {},
   "source": [
    "### Tidy Up"
   ]
  },
  {
   "cell_type": "code",
   "execution_count": null,
   "metadata": {},
   "outputs": [],
   "source": [
    "from siuba import _, filter\n",
    "\n",
    "tidy_melt = (\n",
    "    pd.concat(\n",
    "        [\n",
    "            df_filter_files.drop([\"value\"], axis=1),\n",
    "            df_filter_files.value.apply(pd.Series),\n",
    "        ],\n",
    "        axis=1,\n",
    "    )\n",
    "    .melt(\n",
    "        id_vars=[\n",
    "            \"user_name\",\n",
    "            \"filename\",\n",
    "            \"user_agent\",\n",
    "            \"rect_count\",\n",
    "            \"classifications_count\",\n",
    "            \"creation_time\",\n",
    "        ],\n",
    "        var_name=\"dummy\",\n",
    "        value_name=\"rectangle\",\n",
    "    )\n",
    "    .drop([\"dummy\"], axis=1)\n",
    "    .dropna(subset=[\"user_name\", \"filename\", \"user_agent\", \"rect_count\"])\n",
    ")\n"
   ]
  },
  {
   "cell_type": "code",
   "execution_count": null,
   "metadata": {},
   "outputs": [],
   "source": [
    "rectangles_path = csvs_path.joinpath(\"rectangles.csv\")\n",
    "if rectangles_path.is_file():\n",
    "    rectangles = pd.read_csv(rectangles_path)\n",
    "else:\n",
    "    rectangles = tidy_melt.rectangle.apply(pd.Series)\n",
    "rectangles\n"
   ]
  },
  {
   "cell_type": "code",
   "execution_count": null,
   "metadata": {},
   "outputs": [],
   "source": [
    "rectangles.dropna(subset=[\"x\"]).reset_index(drop=True)"
   ]
  },
  {
   "cell_type": "code",
   "execution_count": null,
   "metadata": {},
   "outputs": [],
   "source": [
    "tidy = pd.concat([tidy_melt.drop([\"rectangle\"], axis=1), rectangles,], axis=1,)[\n",
    "    [\n",
    "        \"user_name\",\n",
    "        \"filename\",\n",
    "        \"creation_time\",\n",
    "        \"user_agent\",\n",
    "        \"rect_count\",\n",
    "        \"classifications_count\",\n",
    "        \"x\",\n",
    "        \"y\",\n",
    "        \"width\",\n",
    "        \"height\",\n",
    "    ]\n",
    "]\n"
   ]
  },
  {
   "cell_type": "code",
   "execution_count": null,
   "metadata": {},
   "outputs": [],
   "source": [
    "tidy.isna().any()\n"
   ]
  },
  {
   "cell_type": "code",
   "execution_count": null,
   "metadata": {},
   "outputs": [],
   "source": [
    "tidy_nona = tidy.dropna().reset_index(drop=True)\n",
    "tidy_nona\n"
   ]
  },
  {
   "attachments": {},
   "cell_type": "markdown",
   "metadata": {},
   "source": [
    "### Explore Data"
   ]
  },
  {
   "cell_type": "code",
   "execution_count": null,
   "metadata": {},
   "outputs": [],
   "source": [
    "tidy_nona[\n",
    "    (tidy_nona.user_name == \"Brooker1957\")\n",
    "    & (tidy_nona.filename == \"b0xhA8TCuQtLRbirX369iE7dJvUE.jpg\")\n",
    "].dropna().reset_index().drop([\"index\"], axis=1).drop_duplicates().sort_values(\n",
    "    [\"user_name\", \"filename\", \"x\", \"y\", \"width\", \"height\"]\n",
    ").dropna()\n"
   ]
  },
  {
   "cell_type": "code",
   "execution_count": null,
   "metadata": {},
   "outputs": [],
   "source": [
    "no_rect_df = tidy_nona[\n",
    "    [\"user_name\", \"filename\", \"creation_time\", \"user_agent\", \"rect_count\"]\n",
    "].drop_duplicates()\n",
    "df_stats = (\n",
    "    no_rect_df.groupby(\"filename\")\n",
    "    .rect_count.agg(\n",
    "        count=\"count\",\n",
    "        min=\"min\",\n",
    "        max=\"max\",\n",
    "        mean=\"mean\",\n",
    "        median=\"median\",\n",
    "        std=\"std\",\n",
    "        mode=lambda x: x.mode(),\n",
    "    )\n",
    "    .reset_index()\n",
    "    .sort_values(\"filename\")\n",
    ")\n",
    "df_stats\n"
   ]
  },
  {
   "cell_type": "code",
   "execution_count": null,
   "metadata": {},
   "outputs": [],
   "source": [
    "import random\n",
    "from PIL import Image as PilImage\n",
    "import matplotlib.colors as mcolors\n",
    "\n",
    "observations = [\"Select an observation\"] + sorted(df_stats.filename.unique().tolist())\n",
    "obs_selected = widgets.Dropdown(\n",
    "    options=observations,\n",
    "    description=\"Select an observation:\",\n",
    ")\n",
    "\n",
    "user_selected = widgets.Dropdown(\n",
    "    options=[],\n",
    "    description=\"Select a user:\",\n",
    ")\n",
    "\n",
    "date_selected = widgets.Dropdown(\n",
    "    options=[],\n",
    "    description=\"Select a date:\",\n",
    ")\n",
    "\n",
    "shape_selected = widgets.Dropdown(\n",
    "    options=[\"Rectangle\", \"Circle\"],\n",
    "    description=\"Draw shape:\",\n",
    "    value=\"Rectangle\",\n",
    ")\n",
    "\n",
    "button = widgets.Button(description=\"Render\")\n",
    "\n",
    "image_with_rects = widgets.Output(layout={\"border\": \"1px solid black\"})\n",
    "text_rects = widgets.Output(layout={\"border\": \"1px solid black\"})\n",
    "\n",
    "\n",
    "dataframe: widgets.Output = widgets.Output(layout={\"border\": \"1px solid black\"})\n",
    "stats_output = widgets.Output(layout={\"border\": \"1px solid black\"})\n",
    "\n",
    "\n",
    "def update_overview(observation, user, date_, shape, update_user, update_date):\n",
    "    dataframe.clear_output()\n",
    "    with dataframe:\n",
    "        display(\n",
    "            no_rect_df.drop(\"filename\", axis=1)[\n",
    "                no_rect_df.filename == observation\n",
    "            ].reset_index()\n",
    "        )\n",
    "\n",
    "    stats_output.clear_output()\n",
    "    with stats_output:\n",
    "        display(df_stats[df_stats.filename == observation].reset_index())\n",
    "\n",
    "    if update_user == \"update\":\n",
    "        user_selected.options = [\"None\", \"All\"] + sorted(\n",
    "            tidy_nona[tidy_nona.filename == observation].user_name.unique().tolist()\n",
    "        )\n",
    "    elif update_user == \"clear\":\n",
    "        user_selected.options = []\n",
    "    if update_date == \"update\":\n",
    "        date_selected.options = [\"All\"] + sorted(\n",
    "            tidy_nona[\n",
    "                (tidy_nona.filename == observation) & (tidy_nona.user_name == user)\n",
    "            ]\n",
    "            .creation_time.unique()\n",
    "            .tolist()\n",
    "        )\n",
    "    elif update_date == \"clear\":\n",
    "        date_selected.options = []\n",
    "\n",
    "    #     if observation == \"Select an observation\":\n",
    "    #         return\n",
    "    #     elif user == \"None\":\n",
    "    #         rects = None\n",
    "    #     elif user == \"All\":\n",
    "    rects = tidy_nona[(tidy_nona.filename == observation)]\n",
    "    #     else:\n",
    "    #         rects = tidy_nona[(tidy_nona.filename == observation) & (tidy_nona.user_name == user)]\n",
    "\n",
    "    #     if rects is None:\n",
    "    #         pass\n",
    "    #     elif date_ == \"None\":\n",
    "    #         rects = None\n",
    "    #     elif date_ != \"All\":\n",
    "    #         rects = rects[rects.creation_time == date_]\n",
    "\n",
    "    if rects is not None:\n",
    "        rects = rects.reset_index().dropna()[[\"x\", \"y\", \"width\", \"height\"]]\n",
    "    image_with_rects.clear_output()\n",
    "    with image_with_rects:\n",
    "        img = PilImage.open(f\"../data_in/images/{obs_selected.value}\")\n",
    "        fig, ax = plt.subplots()\n",
    "        fig.set_size_inches(14, 14)\n",
    "        ax.set_axis_off()\n",
    "        ax.imshow(img)\n",
    "        if rects is not None:\n",
    "            rects = rects.reset_index().dropna()[[\"x\", \"y\", \"width\", \"height\"]]\n",
    "            colors = [\n",
    "                random.choice(list(mcolors.CSS4_COLORS.keys()))\n",
    "                for _ in range(rects.shape[0])\n",
    "            ]\n",
    "            for x, y, w, h, c in zip(\n",
    "                rects.x, rects.y, rects.width, rects.height, colors\n",
    "            ):\n",
    "                if shape == \"Circle\":\n",
    "                    ax.add_patch(\n",
    "                        patches.Circle(\n",
    "                            (x + w // 2, y + h // 2),\n",
    "                            8,\n",
    "                            linewidth=8,\n",
    "                            edgecolor=c,\n",
    "                            facecolor=\"none\",\n",
    "                        )\n",
    "                    )\n",
    "                elif shape == \"Rectangle\":\n",
    "                    ax.add_patch(\n",
    "                        patches.Rectangle(\n",
    "                            (x, y), w, h, linewidth=2, edgecolor=c, facecolor=\"none\"\n",
    "                        )\n",
    "                    )\n",
    "        plt.show()\n",
    "\n",
    "    text_rects.clear_output()\n",
    "    with text_rects:\n",
    "        if rects is not None:\n",
    "            display(rects)\n",
    "\n",
    "\n",
    "def on_observation_selected(change):\n",
    "    update_overview(\n",
    "        observation=change.new,\n",
    "        user=user_selected.value,\n",
    "        date_=date_selected.value,\n",
    "        shape=shape_selected.value,\n",
    "        update_user=\"update\",\n",
    "        update_date=\"clear\",\n",
    "    )\n",
    "\n",
    "\n",
    "def on_user_selected(change):\n",
    "    update_overview(\n",
    "        observation=obs_selected.value,\n",
    "        user=change.new,\n",
    "        date_=date_selected.value,\n",
    "        shape=shape_selected.value,\n",
    "        update_user=\"\",\n",
    "        update_date=\"update\",\n",
    "    )\n",
    "\n",
    "\n",
    "def on_timestamp_selected(change):\n",
    "    update_overview(\n",
    "        observation=obs_selected.value,\n",
    "        user=user_selected.value,\n",
    "        date_=date_selected.value,\n",
    "        shape=shape_selected.value,\n",
    "        update_user=\"\",\n",
    "        update_date=\"\",\n",
    "    )\n",
    "\n",
    "\n",
    "def on_shape_selected(change):\n",
    "    update_overview(\n",
    "        observation=obs_selected.value,\n",
    "        user=user_selected.value,\n",
    "        date_=date_selected.value,\n",
    "        shape=change.new,\n",
    "        update_user=\"\",\n",
    "        update_date=\"\",\n",
    "    )\n",
    "\n",
    "\n",
    "obs_selected.observe(on_observation_selected, names=\"value\")\n",
    "user_selected.observe(on_user_selected, names=\"value\")\n",
    "date_selected.observe(on_timestamp_selected, names=\"value\")\n",
    "shape_selected.observe(on_shape_selected, names=\"value\")\n",
    "# button.on_click(on_button_clicked)\n",
    "\n",
    "display(\n",
    "    HBox([obs_selected, user_selected, date_selected, shape_selected, button]),\n",
    "    stats_output,\n",
    "    HBox([dataframe, text_rects]),\n",
    "    image_with_rects,\n",
    ")\n"
   ]
  },
  {
   "cell_type": "code",
   "execution_count": null,
   "metadata": {},
   "outputs": [],
   "source": [
    "from sklearn.cluster import KMeans\n",
    "\n",
    "images_list = [\"Select an observation\"] + sorted(df_stats.filename.unique().tolist())\n",
    "dd_image = widgets.Dropdown(\n",
    "    options=images_list,\n",
    "    description=\"Select an observation:\",\n",
    ")\n",
    "\n",
    "is_print_all = widgets.Checkbox(\n",
    "    value=False,\n",
    "    description=\"Print all annotations centers\",\n",
    "    disabled=False,\n",
    "    indent=False,\n",
    ")\n",
    "is_print_centers = widgets.Checkbox(\n",
    "    value=False, description=\"Print all kmeans centers\", disabled=False, indent=False\n",
    ")\n",
    "is_print_rectangles = widgets.Checkbox(\n",
    "    value=True, description=\"Print rectangles\", disabled=False, indent=False\n",
    ")\n",
    "\n",
    "image_output = widgets.Output(layout={\"border\": \"1px solid black\"})\n",
    "image_stat_output = widgets.Output(layout={\"border\": \"1px solid black\"})\n",
    "user_gt = widgets.Output(layout={\"border\": \"1px solid black\"})\n",
    "value_counts = widgets.Output(layout={\"border\": \"1px solid black\"})\n",
    "\n",
    "\n",
    "def print_ground_truth(\n",
    "    observation: str,\n",
    "    print_all: bool = False,\n",
    "    print_centers: bool = False,\n",
    "    print_rectangles: bool = True,\n",
    "):\n",
    "    image_stat_output.clear_output()\n",
    "    with image_stat_output:\n",
    "        display(df_stats[df_stats.filename == observation].reset_index())\n",
    "\n",
    "    vc = no_rect_df[no_rect_df.filename == observation][\"rect_count\"].value_counts()\n",
    "    if len(vc) > 1:\n",
    "        v = vc.index.to_list()[:2]\n",
    "        c = vc.to_list()[:2]\n",
    "        if c[0] > 2 * c[1]:\n",
    "            allowed_counts = [v[0]]\n",
    "        else:\n",
    "            allowed_counts = v\n",
    "    else:\n",
    "        allowed_counts = vc.index.to_list()\n",
    "\n",
    "    rects = tidy_nona[\n",
    "        (tidy_nona.filename == observation)\n",
    "        & (tidy_nona.rect_count.isin(allowed_counts))\n",
    "    ].dropna()[[\"x\", \"y\", \"width\", \"height\"]]\n",
    "    rects = rects[\n",
    "        (rects.width < 2 * rects.width.median())\n",
    "        & (rects.height < 2 * rects.height.median())\n",
    "    ].reset_index()\n",
    "    image_output.clear_output()\n",
    "    with image_output:\n",
    "        img = PilImage.open(f\"../data_in/images/{observation}\")\n",
    "        fig, ax = plt.subplots()\n",
    "        fig.set_size_inches(14, 14)\n",
    "        ax.set_axis_off()\n",
    "        ax.imshow(img)\n",
    "        if (rects is not None) and (rects.shape[0] > 0):\n",
    "            rects = rects.assign(\n",
    "                cx=rects.x + rects.width // 2,\n",
    "                cy=rects.y + rects.height // 2,\n",
    "            )\n",
    "            X = [(cx, cy) for cx, cy in zip(rects.cx, rects.cy)]\n",
    "            kmeans = KMeans(\n",
    "                n_clusters=max(allowed_counts),\n",
    "                random_state=42,\n",
    "            ).fit(X)\n",
    "            y_pred = kmeans.predict(X)\n",
    "            if print_all:\n",
    "                ax.scatter(rects.cx, rects.cy, c=y_pred, alpha=0.5)\n",
    "            if print_rectangles:\n",
    "                rects[\"y_pred\"] = y_pred\n",
    "                rects = rects.groupby(\"y_pred\").median().reset_index()\n",
    "                for x, y, w, h in zip(rects.x, rects.y, rects.width, rects.height):\n",
    "                    ax.add_patch(\n",
    "                        patches.Rectangle(\n",
    "                            (x, y), w, h, linewidth=2, edgecolor=\"r\", facecolor=\"none\"\n",
    "                        )\n",
    "                    )\n",
    "            if print_centers:\n",
    "                centers = kmeans.cluster_centers_\n",
    "                ax.scatter(centers[:, 0], centers[:, 1], c=\"b\", s=200, alpha=0.5)\n",
    "        plt.show()\n",
    "\n",
    "    user_gt.clear_output()\n",
    "    with user_gt:\n",
    "        display(\n",
    "            no_rect_df[no_rect_df.filename == observation]\n",
    "            .reset_index()\n",
    "            .drop([\"filename\", \"user_agent\"], axis=1)\n",
    "        )\n",
    "\n",
    "    value_counts.clear_output()\n",
    "    with value_counts:\n",
    "        display(\n",
    "            no_rect_df[no_rect_df.filename == observation][\"rect_count\"].value_counts()\n",
    "        )\n",
    "\n",
    "\n",
    "def on_image_selected(change):\n",
    "    print_ground_truth(\n",
    "        observation=change.new,\n",
    "        print_all=is_print_all.value,\n",
    "        print_centers=is_print_centers.value,\n",
    "        print_rectangles=is_print_rectangles.value,\n",
    "    )\n",
    "\n",
    "\n",
    "def on_print_all_changed(change):\n",
    "    print_ground_truth(\n",
    "        observation=dd_image.value,\n",
    "        print_all=change.new,\n",
    "        print_centers=is_print_centers.value,\n",
    "        print_rectangles=is_print_rectangles.value,\n",
    "    )\n",
    "\n",
    "\n",
    "def on_print_centers_changed(change):\n",
    "    print_ground_truth(\n",
    "        observation=dd_image.value,\n",
    "        print_all=is_print_all.value,\n",
    "        print_centers=change.new,\n",
    "        print_rectangles=is_print_rectangles.value,\n",
    "    )\n",
    "\n",
    "\n",
    "def on_print_rectangles_changed(change):\n",
    "    print_ground_truth(\n",
    "        observation=dd_image.value,\n",
    "        print_all=is_print_all.value,\n",
    "        print_centers=is_print_centers.value,\n",
    "        print_rectangles=change.new,\n",
    "    )\n",
    "\n",
    "\n",
    "dd_image.observe(on_image_selected, names=\"value\")\n",
    "\n",
    "is_print_all.observe(on_print_all_changed, names=\"value\")\n",
    "is_print_centers.observe(on_print_centers_changed, names=\"value\")\n",
    "is_print_rectangles.observe(on_print_rectangles_changed, names=\"value\")\n",
    "\n",
    "display(\n",
    "    HBox([dd_image, is_print_all, is_print_centers, is_print_rectangles]),\n",
    "    # image_stat_output,\n",
    "    # HBox([image_output, user_gt, value_counts]),\n",
    ")\n"
   ]
  },
  {
   "attachments": {},
   "cell_type": "markdown",
   "metadata": {},
   "source": [
    "### Apply K-Means to Find the True Bounding Boxes"
   ]
  },
  {
   "cell_type": "code",
   "execution_count": null,
   "metadata": {},
   "outputs": [],
   "source": [
    "from tqdm import tqdm_notebook as tqdmj\n",
    "\n",
    "df_lst = []\n",
    "for filename in tqdmj(df_stats.filename.unique().tolist()):\n",
    "    vc = no_rect_df[no_rect_df.filename == filename][\"rect_count\"].value_counts()\n",
    "    if len(vc) > 1:\n",
    "        v = vc.index.to_list()[:2]\n",
    "        c = vc.to_list()[:2]\n",
    "        if c[0] > 2 * c[1]:\n",
    "            allowed_counts = [v[0]]\n",
    "        else:\n",
    "            allowed_counts = v\n",
    "    else:\n",
    "        allowed_counts = vc.index.to_list()\n",
    "\n",
    "    rects = (\n",
    "        tidy_nona[\n",
    "            (tidy_nona.filename == filename)\n",
    "            & (tidy_nona.rect_count.isin(allowed_counts))\n",
    "        ]\n",
    "        .drop(\n",
    "            [\n",
    "                \"index\",\n",
    "                \"user_name\",\n",
    "                \"creation_time\",\n",
    "                \"user_agent\",\n",
    "                \"rect_count\",\n",
    "                \"classifications_count\",\n",
    "            ],\n",
    "            axis=1,\n",
    "            errors=\"ignore\",\n",
    "        )\n",
    "        .dropna()\n",
    "    )\n",
    "    rects = rects[\n",
    "        (rects.width < 2 * rects.width.median())\n",
    "        & (rects.height < 2 * rects.height.median())\n",
    "    ].reset_index()\n",
    "    if (rects is not None) and (rects.shape[0] > 0):\n",
    "        X = [\n",
    "            (cx, cy)\n",
    "            for cx, cy in zip(rects.x + rects.width // 2, rects.y + rects.height // 2)\n",
    "        ]\n",
    "        rects[\"y_pred\"] = (\n",
    "            KMeans(\n",
    "                n_clusters=max(allowed_counts),\n",
    "                random_state=42,\n",
    "            )\n",
    "            .fit(X)\n",
    "            .predict(X)\n",
    "        )\n",
    "        df_lst.append(\n",
    "            rects.assign(\n",
    "                x=rects.groupby(\"y_pred\", dropna=True,)[\n",
    "                    \"x\"\n",
    "                ].transform(\"median\"),\n",
    "                y=rects.groupby(\"y_pred\", dropna=True,)[\n",
    "                    \"y\"\n",
    "                ].transform(\"median\"),\n",
    "                width=rects.groupby(\"y_pred\", dropna=True,)[\n",
    "                    \"width\"\n",
    "                ].transform(\"median\"),\n",
    "                height=rects.groupby(\"y_pred\", dropna=True,)[\n",
    "                    \"height\"\n",
    "                ].transform(\"median\"),\n",
    "            )\n",
    "            .reset_index(drop=True)\n",
    "            .drop([\"y_pred\", \"index\"], axis=1)\n",
    "            .drop_duplicates()\n",
    "            .reset_index(drop=True)\n",
    "        )\n",
    "    else:\n",
    "        df_lst.append(\n",
    "            pd.DataFrame(\n",
    "                [[filename, np.NaN, np.NaN, np.NaN, np.NaN]],\n",
    "                columns=[\"filename\", \"x\", \"y\", \"width\", \"height\"],\n",
    "            )\n",
    "        )\n"
   ]
  },
  {
   "cell_type": "code",
   "execution_count": null,
   "metadata": {},
   "outputs": [],
   "source": [
    "df_kmeans = pd.concat(df_lst)\n",
    "df_kmeans\n"
   ]
  },
  {
   "cell_type": "code",
   "execution_count": null,
   "metadata": {},
   "outputs": [],
   "source": [
    "df_kmeans.filename.unique().shape\n"
   ]
  },
  {
   "attachments": {},
   "cell_type": "markdown",
   "metadata": {},
   "source": [
    "### Remove Empty Bounding Boxes"
   ]
  },
  {
   "cell_type": "code",
   "execution_count": null,
   "metadata": {},
   "outputs": [],
   "source": [
    "df_kmeans.loc[(df_kmeans.width == 0) | (df_kmeans.height == 0)]\n"
   ]
  },
  {
   "cell_type": "code",
   "execution_count": null,
   "metadata": {},
   "outputs": [],
   "source": [
    "df_no_empty_recs = (\n",
    "    df_kmeans[((df_kmeans.width != 0) & (df_kmeans.height != 0))]\n",
    "    .assign(\n",
    "        x1=lambda x: x.x,\n",
    "        y1=lambda x: x.y,\n",
    "        x2=lambda x: x.x + x.width,\n",
    "        y2=lambda x: x.y + x.height,\n",
    "    )\n",
    "    .reset_index(drop=True)\n",
    ")\n",
    "df_no_empty_recs\n"
   ]
  },
  {
   "attachments": {},
   "cell_type": "markdown",
   "metadata": {},
   "source": [
    "## Merge Zooniverse Data With TPMP data"
   ]
  },
  {
   "attachments": {},
   "cell_type": "markdown",
   "metadata": {},
   "source": [
    "### Load TPMP CSV Data"
   ]
  },
  {
   "cell_type": "code",
   "execution_count": null,
   "metadata": {},
   "outputs": [],
   "source": [
    "df_t = pd.read_csv(str(csvs_path.joinpath(\"filename_to_hash_v2.csv\")))\n",
    "df_t"
   ]
  },
  {
   "attachments": {},
   "cell_type": "markdown",
   "metadata": {},
   "source": [
    "###  Merge Data"
   ]
  },
  {
   "cell_type": "code",
   "execution_count": null,
   "metadata": {},
   "outputs": [],
   "source": [
    "from siuba import _, filter\n",
    "import numpy as np\n",
    "\n",
    "df_merge_zt = (\n",
    "    (\n",
    "        pd.merge(\n",
    "            left=df_no_empty_recs.assign(hash=lambda x: x.filename)\n",
    "            .drop([\"filename\"], axis=1)\n",
    "            .sort_values(\"hash\"),\n",
    "            right=df_t,\n",
    "            on=\"hash\",\n",
    "        )\n",
    "        .sort_values([\"experiment\", \"plant\", \"date\", \"time\"])\n",
    "        .assign(filename=lambda x: x.hash)\n",
    "        .drop([\"hash\"], axis=1)\n",
    "    )[\n",
    "        [\n",
    "            \"experiment\",\n",
    "            \"plant\",\n",
    "            \"camera\",\n",
    "            \"view_option\",\n",
    "            \"date_time\",\n",
    "            \"date\",\n",
    "            \"time\",\n",
    "            \"filename\",\n",
    "            \"x\",\n",
    "            \"y\",\n",
    "            \"width\",\n",
    "            \"height\",\n",
    "        ]\n",
    "    ].assign(\n",
    "        x1=lambda x: x.x,\n",
    "        y1=lambda x: x.y,\n",
    "        x2=lambda x: x.x + x.width,\n",
    "        y2=lambda x: x.y + x.height,\n",
    "    )\n",
    ").reset_index(drop=True)\n",
    "\n",
    "df_merge_zt\n"
   ]
  },
  {
   "cell_type": "code",
   "execution_count": null,
   "metadata": {},
   "outputs": [],
   "source": [
    "df_merge_zt.to_csv(str(csvs_path.joinpath(\"zooniverse_tpmp_data.csv\")), index=False)"
   ]
  },
  {
   "attachments": {},
   "cell_type": "markdown",
   "metadata": {},
   "source": [
    "## Build Datasets"
   ]
  },
  {
   "attachments": {},
   "cell_type": "markdown",
   "metadata": {},
   "source": [
    "### Load Data"
   ]
  },
  {
   "cell_type": "code",
   "execution_count": null,
   "metadata": {},
   "outputs": [],
   "source": [
    "df_src = pd.read_csv(str(csvs_path.joinpath(\"zooniverse_tpmp_data.csv\")))\n",
    "df_src"
   ]
  },
  {
   "cell_type": "code",
   "execution_count": null,
   "metadata": {},
   "outputs": [],
   "source": [
    "df_src[(df_src.x1 >= df_src.x2) | (df_src.y1 >= df_src.y2)] "
   ]
  },
  {
   "attachments": {},
   "cell_type": "markdown",
   "metadata": {},
   "source": [
    "### Split Datasets"
   ]
  },
  {
   "attachments": {},
   "cell_type": "markdown",
   "metadata": {},
   "source": [
    "#### Build Counts Dataframe"
   ]
  },
  {
   "cell_type": "code",
   "execution_count": null,
   "metadata": {},
   "outputs": [],
   "source": [
    "df_strat = df_src.groupby(\"filename\").count().reset_index(drop=False)\n",
    "df_strat[\"count\"] = df_strat.x\n",
    "df_strat = df_strat[[\"filename\",\"count\"]]\n",
    "df_strat\n"
   ]
  },
  {
   "cell_type": "code",
   "execution_count": null,
   "metadata": {},
   "outputs": [],
   "source": [
    "df_count = pd.merge(left=df_src, right=df_strat, on=[\"filename\"])\n",
    "df_count"
   ]
  },
  {
   "attachments": {},
   "cell_type": "markdown",
   "metadata": {},
   "source": [
    "#### Split with Stratify on Count"
   ]
  },
  {
   "cell_type": "code",
   "execution_count": null,
   "metadata": {},
   "outputs": [],
   "source": [
    "len(df_count[[\"filename\"]].filename.unique())"
   ]
  },
  {
   "cell_type": "code",
   "execution_count": null,
   "metadata": {},
   "outputs": [],
   "source": [
    "from sklearn.model_selection import train_test_split\n",
    "\n",
    "df_stratify = (\n",
    "    df_count[[\"filename\", \"count\"]]\n",
    "    .drop_duplicates()\n",
    "    .sort_values(\"count\")\n",
    "    .reset_index(drop=True)\n",
    ")\n",
    "df_stratify[\"strata\"]= np.where(df_stratify[\"count\"] > 0, 1, 0)\n",
    "df_stratify\n"
   ]
  },
  {
   "cell_type": "code",
   "execution_count": null,
   "metadata": {},
   "outputs": [],
   "source": [
    "\n",
    "train_files, test_files = train_test_split(\n",
    "    df_stratify,\n",
    "    test_size=0.2,\n",
    "    stratify=df_stratify[\"strata\"],\n",
    ")\n",
    "test_files, val_files = train_test_split(\n",
    "    test_files,\n",
    "    test_size=0.5,\n",
    "    stratify=test_files[\"strata\"],\n",
    ")\n",
    "\n",
    "len(train_files), len(test_files), len(val_files)\n"
   ]
  },
  {
   "cell_type": "code",
   "execution_count": null,
   "metadata": {},
   "outputs": [],
   "source": [
    "\n",
    "train = df_src[df_src.filename.isin(train_files.filename.to_list())].sort_values([\"filename\"])\n",
    "test = df_src[df_src.filename.isin(test_files.filename.to_list())].sort_values([\"filename\"])\n",
    "val = df_src[df_src.filename.isin(val_files.filename.to_list())].sort_values([\"filename\"])\n",
    "\n",
    "len(train), len(test), len(val)\n"
   ]
  },
  {
   "cell_type": "code",
   "execution_count": null,
   "metadata": {},
   "outputs": [],
   "source": [
    "train"
   ]
  },
  {
   "attachments": {},
   "cell_type": "markdown",
   "metadata": {},
   "source": [
    "## Test Datasets"
   ]
  },
  {
   "cell_type": "code",
   "execution_count": null,
   "metadata": {},
   "outputs": [],
   "source": [
    "import loaders as lds\n",
    "\n",
    "image_size = 512\n",
    "tst_ds = lds.GemmaDataset(\n",
    "    train,\n",
    "    images_path=images_path,\n",
    "    transform=lds.get_test_image_transform(image_size=image_size),\n",
    ")\n",
    "\n",
    "tst_ds[0][1][\"boxes\"]"
   ]
  },
  {
   "attachments": {},
   "cell_type": "markdown",
   "metadata": {},
   "source": [
    "### Test boxes"
   ]
  },
  {
   "cell_type": "code",
   "execution_count": null,
   "metadata": {},
   "outputs": [],
   "source": [
    "import matplotlib.pyplot as plt\n",
    "\n",
    "plt.imshow(\n",
    "    tst_ds.draw_image_with_boxes(filename=train.sample(n=1).filename.to_list()[0])\n",
    ")\n",
    "plt.tight_layout()\n",
    "plt.axis(\"off\")\n",
    "plt.show()\n"
   ]
  },
  {
   "attachments": {},
   "cell_type": "markdown",
   "metadata": {},
   "source": [
    "### Test Suspect Image"
   ]
  },
  {
   "cell_type": "code",
   "execution_count": null,
   "metadata": {},
   "outputs": [],
   "source": [
    "from matplotlib.pyplot import figure\n",
    "\n",
    "figure(figsize=(10, 10), dpi=80)\n",
    "\n",
    "plt.imshow(tst_ds.draw_image_with_boxes(filename=\"b0xhA8TCuQtLRbirX369iE7dJvUE.jpg\"))\n",
    "plt.tight_layout()\n",
    "plt.axis(\"off\")\n",
    "plt.show()\n"
   ]
  },
  {
   "attachments": {},
   "cell_type": "markdown",
   "metadata": {},
   "source": [
    "### Test Transformations/Augmentations"
   ]
  },
  {
   "cell_type": "code",
   "execution_count": null,
   "metadata": {},
   "outputs": [],
   "source": [
    "file_name = train.sample(n=1).filename.to_list()[0]\n",
    "\n",
    "lds.make_patches_grid(\n",
    "    images=[tst_ds.draw_image_with_boxes(filename=file_name) for _ in range(12)],\n",
    "    row_count=3,\n",
    "    col_count=4,\n",
    "    figsize=(10, 7.5),\n",
    ")\n"
   ]
  },
  {
   "attachments": {},
   "cell_type": "markdown",
   "metadata": {},
   "source": [
    "### Test Tracking"
   ]
  },
  {
   "cell_type": "code",
   "execution_count": null,
   "metadata": {},
   "outputs": [],
   "source": [
    "ds_plant = lds.GemmaDataset(\n",
    "    csv=df_src[df_src.plant == df_src.sample(n=1).plant.to_list()[0]].sort_values(\n",
    "        [\"date_time\"]\n",
    "    ),\n",
    "    images_path=images_path,\n",
    "    transform=lds.get_resize_only_image_transform(image_size=image_size),\n",
    ")\n",
    "\n",
    "lds.make_patches_grid(\n",
    "    images=[ds_plant.draw_image_with_boxes(filename=fn) for fn in ds_plant.images],\n",
    "    row_count=3,\n",
    "    col_count=4,\n",
    "    figsize=(20, 15),\n",
    ")\n"
   ]
  },
  {
   "attachments": {},
   "cell_type": "markdown",
   "metadata": {},
   "source": [
    "## Save Datasets"
   ]
  },
  {
   "cell_type": "code",
   "execution_count": null,
   "metadata": {},
   "outputs": [],
   "source": [
    "for d, n in zip([train, val, test], [\"train\", \"val\", \"test\"]):\n",
    "    d.to_csv(str(dataset_path.joinpath(f\"{n}.csv\")), index=False)\n"
   ]
  },
  {
   "cell_type": "code",
   "execution_count": null,
   "metadata": {},
   "outputs": [],
   "source": []
  }
 ],
 "metadata": {
  "kernelspec": {
   "display_name": "env",
   "language": "python",
   "name": "python3"
  },
  "language_info": {
   "codemirror_mode": {
    "name": "ipython",
    "version": 3
   },
   "file_extension": ".py",
   "mimetype": "text/x-python",
   "name": "python",
   "nbconvert_exporter": "python",
   "pygments_lexer": "ipython3",
   "version": "3.9.2"
  },
  "orig_nbformat": 4,
  "vscode": {
   "interpreter": {
    "hash": "f85b9c9cb55507c7257ec44526ed60e483c5f29fa824dc52c2852767efcd221e"
   }
  }
 },
 "nbformat": 4,
 "nbformat_minor": 2
}
