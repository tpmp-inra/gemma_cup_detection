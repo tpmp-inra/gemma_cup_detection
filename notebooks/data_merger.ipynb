{
 "cells": [
  {
   "attachments": {},
   "cell_type": "markdown",
   "metadata": {},
   "source": [
    "# Merge data from Zooniverse with data from TPMP DB"
   ]
  },
  {
   "attachments": {},
   "cell_type": "markdown",
   "metadata": {},
   "source": [
    "## Imports"
   ]
  },
  {
   "cell_type": "code",
   "execution_count": null,
   "metadata": {},
   "outputs": [],
   "source": [
    "from pathlib import Path\n",
    "\n",
    "import pandas as pd"
   ]
  },
  {
   "attachments": {},
   "cell_type": "markdown",
   "metadata": {},
   "source": [
    "## Constants"
   ]
  },
  {
   "cell_type": "code",
   "execution_count": null,
   "metadata": {},
   "outputs": [],
   "source": [
    "data_path = Path(\"..\").joinpath(\"data_in\")"
   ]
  },
  {
   "attachments": {},
   "cell_type": "markdown",
   "metadata": {},
   "source": [
    "## Load CSVs"
   ]
  },
  {
   "attachments": {},
   "cell_type": "markdown",
   "metadata": {},
   "source": [
    "### Load Zooniverse data"
   ]
  },
  {
   "cell_type": "code",
   "execution_count": null,
   "metadata": {},
   "outputs": [],
   "source": [
    "df_z = (\n",
    "    pd.read_csv(str(data_path.joinpath(\"boxes_final.csv\")))\n",
    "    .assign(hash=lambda x: x.filename)\n",
    "    .drop([\"filename\"], axis=1)\n",
    "    .sort_values(\"hash\")\n",
    ")\n",
    "df_z\n"
   ]
  },
  {
   "attachments": {},
   "cell_type": "markdown",
   "metadata": {},
   "source": [
    "### Load TPMP data"
   ]
  },
  {
   "cell_type": "code",
   "execution_count": null,
   "metadata": {},
   "outputs": [],
   "source": [
    "df_t = pd.read_csv(str(data_path.joinpath(\"filename_to_hash_v2.csv\")))\n",
    "df_t"
   ]
  },
  {
   "attachments": {},
   "cell_type": "markdown",
   "metadata": {},
   "source": [
    "## Merge data"
   ]
  },
  {
   "cell_type": "code",
   "execution_count": null,
   "metadata": {},
   "outputs": [],
   "source": [
    "df = (\n",
    "    pd.merge(left=df_z, right=df_t, on=\"hash\")\n",
    "    .sort_values([\"experiment\", \"plant\", \"date\", \"time\"])\n",
    "    .assign(filename=lambda x: x.hash)\n",
    "    .drop([\"hash\"], axis=1)\n",
    ")[\n",
    "    [\n",
    "        \"experiment\",\n",
    "        \"plant\",\n",
    "        \"camera\",\n",
    "        \"view_option\",\n",
    "        \"date_time\",\n",
    "        \"date\",\n",
    "        \"time\",\n",
    "        \"filename\",\n",
    "        \"x\",\n",
    "        \"y\",\n",
    "        \"width\",\n",
    "        \"height\",\n",
    "    ]\n",
    "].assign(\n",
    "    x1=lambda x: x.x,\n",
    "    y1=lambda x: x.y,\n",
    "    x2=lambda x: x.x + x.width,\n",
    "    y2=lambda x: x.y + x.height,\n",
    ").query(\"x2 > x1\")\n",
    "df\n"
   ]
  },
  {
   "attachments": {},
   "cell_type": "markdown",
   "metadata": {},
   "source": [
    "## Save data"
   ]
  },
  {
   "cell_type": "code",
   "execution_count": null,
   "metadata": {},
   "outputs": [],
   "source": [
    "df.to_csv(str(data_path.joinpath(\"zooniverse_tpmp_data.csv\")), index=False)"
   ]
  },
  {
   "cell_type": "code",
   "execution_count": null,
   "metadata": {},
   "outputs": [],
   "source": []
  }
 ],
 "metadata": {
  "kernelspec": {
   "display_name": "env",
   "language": "python",
   "name": "python3"
  },
  "language_info": {
   "codemirror_mode": {
    "name": "ipython",
    "version": 3
   },
   "file_extension": ".py",
   "mimetype": "text/x-python",
   "name": "python",
   "nbconvert_exporter": "python",
   "pygments_lexer": "ipython3",
   "version": "3.9.2 (default, Feb 28 2021, 17:03:44) \n[GCC 10.2.1 20210110]"
  },
  "orig_nbformat": 4,
  "vscode": {
   "interpreter": {
    "hash": "f85b9c9cb55507c7257ec44526ed60e483c5f29fa824dc52c2852767efcd221e"
   }
  }
 },
 "nbformat": 4,
 "nbformat_minor": 2
}
